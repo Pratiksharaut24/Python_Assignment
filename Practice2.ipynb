{
 "cells": [
  {
   "cell_type": "markdown",
   "id": "c5a3a7d9-87e6-4bf7-b439-b248e88f69f5",
   "metadata": {},
   "source": [
    "\n",
    "Vehicles = [\"Car\",\"Bus\",\"Van\",\"Scooty\",\"Bike\"]\n",
    "print(Fruit,Vehicles)"
   ]
  },
  {
   "cell_type": "code",
   "execution_count": 3,
   "id": "cd802b65-6f1f-4c57-bcdb-bf97d0b540d3",
   "metadata": {},
   "outputs": [
    {
     "name": "stdout",
     "output_type": "stream",
     "text": [
      "['Apple', 'Grapes', 'Pineapple', 'Cherry', 'Kiwi'] ['Car', 'Bus', 'Van', 'Scooty', 'Bike']\n"
     ]
    }
   ],
   "source": [
    "Fruit.insert(3,\"Cherry\")\n",
    "Vehicles.insert(3,\"Scooty\")\n",
    "print(Fruit,Vehicles)"
   ]
  },
  {
   "cell_type": "code",
   "execution_count": 5,
   "id": "3d19d41f-5131-41b1-80d3-7a65555ad9a6",
   "metadata": {},
   "outputs": [
    {
     "name": "stdout",
     "output_type": "stream",
     "text": [
      "{768, 67, 324, 246, 89, 908, 45} {67, 789, 345, 90, 875, 45, 78} {98, 35, 13, 343, 24, 12, 77} {23, 56, 89, 7899, 12, 45, 654}\n"
     ]
    }
   ],
   "source": [
    "set1 = {45,89,67,324,768,246,908}\n",
    "set2 = {90,45,67,78,345,789,875}\n",
    "set3 = {343,12,13,24,35,98,77}\n",
    "set4 = {56,45,23,12,89,654,7899}\n",
    "print(set1,set2,set3,set4)"
   ]
  },
  {
   "cell_type": "code",
   "execution_count": 7,
   "id": "113e57e9-819c-4795-917c-d01911775982",
   "metadata": {},
   "outputs": [
    {
     "name": "stdout",
     "output_type": "stream",
     "text": [
      "{768, 324, 908, 13, 654, 77, 78, 789, 23, 343, 24, 7899, 345, 90, 98, 35, 875, 45, 246, 56}\n"
     ]
    }
   ],
   "source": [
    "A1 = set1 | set2 | set3 | set4\n",
    "A1 = set1 & set2 & set3 & set4\n",
    "A1 = set1 ^ set2 ^ set3 ^ set4\n",
    "print(A1)"
   ]
  },
  {
   "cell_type": "code",
   "execution_count": 9,
   "id": "68c63f82-81e6-4fd3-8295-0d0bc6a2648d",
   "metadata": {},
   "outputs": [
    {
     "name": "stdout",
     "output_type": "stream",
     "text": [
      "{768, 67, 324, 345, 875, 908, 45, 78, 789, 246, 89, 90}\n"
     ]
    }
   ],
   "source": [
    "set1.update(set2)\n",
    "print(set1)"
   ]
  },
  {
   "cell_type": "code",
   "execution_count": 11,
   "id": "4cda9984-fb1b-4689-a719-7fe4408b15de",
   "metadata": {},
   "outputs": [
    {
     "name": "stdout",
     "output_type": "stream",
     "text": [
      "{98, 35, 12, 13, 77, 45, 654, 23, 343, 24, 89, 56, 7899}\n"
     ]
    }
   ],
   "source": [
    "set3.update(set4)\n",
    "print(set3)"
   ]
  },
  {
   "cell_type": "code",
   "execution_count": 19,
   "id": "025e14a9-65ba-4d0d-a7bb-07b76905c7b3",
   "metadata": {},
   "outputs": [
    {
     "name": "stdout",
     "output_type": "stream",
     "text": [
      "['Apple', 'Grapes', 'Pineapple', 'Cherry', 'Kiwi', 'Car', 'Bus', 'Van', 'Scooty', 'Bike', 'Car', 'Bus', 'Van', 'Scooty', 'Bike', 'Car', 'Bus', 'Van', 'Scooty', 'Bike']\n"
     ]
    }
   ],
   "source": [
    "Fruit.extend(Vehicles)\n",
    "print(Fruit)"
   ]
  },
  {
   "cell_type": "code",
   "execution_count": 207,
   "id": "082b43f8-a619-47d7-a919-251cd68b6876",
   "metadata": {},
   "outputs": [],
   "source": [
    "Subject1 = [\"Maths\",\"Science\",\"English\",\"Hindi\"]\n",
    "Subject2 = [\"Geography\",\"History\",\"Political\",\"Biology\"]"
   ]
  },
  {
   "cell_type": "code",
   "execution_count": 209,
   "id": "7b1a07aa-3ccc-4658-a2d7-050d047c1667",
   "metadata": {},
   "outputs": [
    {
     "name": "stdout",
     "output_type": "stream",
     "text": [
      "['Maths', 'Science', 'English', 'Hindi', 'Geography', 'History', 'Political', 'Biology']\n"
     ]
    }
   ],
   "source": [
    "Subject1.extend(Subject2)\n",
    "print(Subject1)"
   ]
  },
  {
   "cell_type": "code",
   "execution_count": 211,
   "id": "b7937caf-f773-42ac-8c52-c66b781374b4",
   "metadata": {},
   "outputs": [
    {
     "name": "stdout",
     "output_type": "stream",
     "text": [
      "['Maths', 'Science', 'English', 'Hindi', 'Physics', 'Geography', 'History', 'Political', 'Biology'] ['Geography', 'History', 'Political', 'Biology', 'Coding']\n"
     ]
    }
   ],
   "source": [
    "Subject1.insert(4,\"Physics\")\n",
    "Subject2.insert(4,\"Coding\")\n",
    "print(Subject1,Subject2)"
   ]
  },
  {
   "cell_type": "code",
   "execution_count": 213,
   "id": "5bb8cca9-8d3f-49e5-bded-c7e42cb86eb2",
   "metadata": {},
   "outputs": [
    {
     "name": "stdout",
     "output_type": "stream",
     "text": [
      "['Maths', 'Science', 'English', 'Physics', 'Geography', 'History', 'Political', 'Biology'] ['Geography', 'History', 'Political', 'Coding']\n"
     ]
    }
   ],
   "source": [
    "Subject1.pop(3)\n",
    "Subject2.pop(3)\n",
    "print(Subject1,Subject2)"
   ]
  },
  {
   "cell_type": "code",
   "execution_count": 215,
   "id": "dbf4047c-8345-4053-a4b4-b640c2f07db7",
   "metadata": {},
   "outputs": [
    {
     "name": "stdout",
     "output_type": "stream",
     "text": [
      "['Science', 'Political', 'Physics', 'Maths', 'History', 'Geography', 'English', 'Biology'] ['Political', 'History', 'Geography', 'Coding']\n"
     ]
    }
   ],
   "source": [
    "Subject1.sort( reverse=True)\n",
    "Subject2.sort( reverse=True)\n",
    "print(Subject1,Subject2)"
   ]
  },
  {
   "cell_type": "markdown",
   "id": "725d7bfd-3cd4-4922-8eb0-6c53f0e633f8",
   "metadata": {},
   "source": [
    "## Dictonary and set"
   ]
  },
  {
   "cell_type": "code",
   "execution_count": 199,
   "id": "8693aabe-974f-4145-9022-5e9c54468b31",
   "metadata": {},
   "outputs": [
    {
     "name": "stdout",
     "output_type": "stream",
     "text": [
      "{'Name': 'Pratiksha', 'Pursing': 'Bachelor of computer science', 'College': 'Ambedkar College Nagpur', 'Hobby': 'Skecthing', 'Age': 19, 'Adult': 'True', 'Subjects': ['Data structure', 'Python', 'C++', 'Java'], 'Tuple': ('Apple', 'Banana', 'Cherry'), 12.44: 56}\n"
     ]
    }
   ],
   "source": [
    "Info = {\"Name\" : \"Pratiksha\",\n",
    "        \"Pursing\" : \"Bachelor of computer science\",\n",
    "        \"College\" : \"Ambedkar College Nagpur\",\n",
    "        \"Hobby\" : \"Skecthing\",\n",
    "        \"Age\" : 19,\n",
    "        \"Adult\" : \"True\",\n",
    "        \"Subjects\" : [\"Data structure\",\"Python\",\"C++\",\"Java\"],\n",
    "        \"Tuple\" : (\"Apple\",\"Banana\",\"Cherry\"),\n",
    "        12.44 : 56,\n",
    "       }\n",
    "print(Info)       "
   ]
  },
  {
   "cell_type": "code",
   "execution_count": 65,
   "id": "b9c15785-0f38-426d-ab96-012e59200119",
   "metadata": {},
   "outputs": [
    {
     "name": "stdout",
     "output_type": "stream",
     "text": [
      "<class 'dict'>\n",
      "['Data structure', 'Python', 'C++', 'Java']\n",
      "Pratiksha\n",
      "Skecthing\n",
      "('Apple', 'Banana', 'Cherry')\n"
     ]
    }
   ],
   "source": [
    "print(type(Info))\n",
    "print(Info[\"Subjects\"])\n",
    "print(Info[\"Name\"])\n",
    "print(Info[\"Hobby\"])\n",
    "print(Info[\"Tuple\"])"
   ]
  },
  {
   "cell_type": "code",
   "execution_count": 71,
   "id": "970d2e5d-aa2d-48ac-acd5-03845153987c",
   "metadata": {},
   "outputs": [
    {
     "name": "stdout",
     "output_type": "stream",
     "text": [
      "{'Name': 'Pratiksha', 'Pursing': 'Bachelor of computer science', 'College': 'Ambedkar College Nagpur', 'Hobby': 'Skecthing', 'Age': 19, 'Adult': 'True', 'Subjects': ['Data structure', 'Python', 'C++', 'Java'], 'Tuple': ('Apple', 'Banana', 'Cherry'), 12.44: 56, 'Surname': 'Raut'}\n"
     ]
    }
   ],
   "source": [
    "Info[\"Name\"] = \"Pratiksha\"\n",
    "Info[\"Surname\"] = \"Raut\"\n",
    "print(Info)"
   ]
  },
  {
   "cell_type": "code",
   "execution_count": 91,
   "id": "a85d9ef0-b1a1-4694-b4d1-dccdfef2f609",
   "metadata": {},
   "outputs": [
    {
     "name": "stdout",
     "output_type": "stream",
     "text": [
      "{}\n"
     ]
    }
   ],
   "source": [
    "Null_dict = {}\n",
    "print(Null_dict)"
   ]
  },
  {
   "cell_type": "code",
   "execution_count": 97,
   "id": "e58a4c9b-7f97-463c-96b7-4716eae13a90",
   "metadata": {},
   "outputs": [
    {
     "name": "stdout",
     "output_type": "stream",
     "text": [
      "{'Name': 'Pratiksha', 'Subjects': {'phy': 97, 'chem': 96, 'math': 98}}\n",
      "96\n"
     ]
    }
   ],
   "source": [
    "Student = { \"Name\" : \"Pratiksha\",\n",
    "           \"Subjects\" : {\n",
    "               \"phy\" : 97,\n",
    "               \"chem\" : 96,\n",
    "               \"math\" : 98,\n",
    "           }\n",
    "          }\n",
    "print(Student)\n",
    "print(Student[\"Subjects\"][\"chem\"])"
   ]
  },
  {
   "cell_type": "code",
   "execution_count": 1,
   "id": "e5a03f23-aebf-4558-9bc9-fef601efb70b",
   "metadata": {},
   "outputs": [
    {
     "ename": "NameError",
     "evalue": "name 'Student' is not defined",
     "output_type": "error",
     "traceback": [
      "\u001b[1;31m---------------------------------------------------------------------------\u001b[0m",
      "\u001b[1;31mNameError\u001b[0m                                 Traceback (most recent call last)",
      "Cell \u001b[1;32mIn[1], line 1\u001b[0m\n\u001b[1;32m----> 1\u001b[0m \u001b[38;5;28mprint\u001b[39m(Student\u001b[38;5;241m.\u001b[39mkeys())\n\u001b[0;32m      2\u001b[0m \u001b[38;5;28mprint\u001b[39m(Student\u001b[38;5;241m.\u001b[39mvalues())\n\u001b[0;32m      3\u001b[0m Info\u001b[38;5;241m.\u001b[39mupdate(Student)\n",
      "\u001b[1;31mNameError\u001b[0m: name 'Student' is not defined"
     ]
    }
   ],
   "source": [
    "print(Student.keys())\n",
    "print(Student.values())\n",
    "Info.update(Student)\n",
    "print(Info)\n",
    "print(len(\"Student\"))\n",
    "print(len(\"Info\"))\n",
    "print(Student.items())\n",
    "print(Info.items())\n",
    "pairs = list(Student.items())\n",
    "print(pairs[1])\n",
    "print(Student.get(\"Name\"))\n",
    "print(Student.get(\"Subjects\"))"
   ]
  },
  {
   "cell_type": "code",
   "execution_count": 172,
   "id": "5c4402ec-ac1b-4299-83d0-39ba5789f86e",
   "metadata": {},
   "outputs": [
    {
     "name": "stdout",
     "output_type": "stream",
     "text": [
      "{'Name': 'Nandini', 'Subjects': {'phy': 97, 'chem': 96, 'math': 98}, 'Age': 19}\n"
     ]
    }
   ],
   "source": [
    "new_dict = {\"Name\" : \"Nandini\", \"Age\" : 19}\n",
    "Student.update(new_dict)\n",
    "print(Student)"
   ]
  },
  {
   "cell_type": "code",
   "execution_count": 180,
   "id": "45dce353-7dae-4cb9-8691-dba7c2c80058",
   "metadata": {},
   "outputs": [
    {
     "name": "stdout",
     "output_type": "stream",
     "text": [
      "{1, 2}\n"
     ]
    }
   ],
   "source": [
    "set1 = {1,2,2,2} #Repeated element stored only once\n",
    "print(set1)"
   ]
  },
  {
   "cell_type": "markdown",
   "id": "99f8d7bd-ef5a-426a-ae4d-2de39764b44c",
   "metadata": {},
   "source": [
    "## Let's Practise"
   ]
  },
  {
   "cell_type": "code",
   "execution_count": 230,
   "id": "0c498249-9b44-46c5-bd27-5b5fd35aacb1",
   "metadata": {},
   "outputs": [],
   "source": [
    "# You are given a list od subjects for students. Assume one classrooms is required for 1 subject. How ,amy classrooms are needed by all student.\n",
    "# \"python\",\"java\",\"C++\",\"python\",\"javascript\",\"java\",\"python\",\"java\",\"C++\",\"C\""
   ]
  },
  {
   "cell_type": "code",
   "execution_count": 238,
   "id": "4dac7a56-2b55-4f44-a04a-3db5feabdcd5",
   "metadata": {},
   "outputs": [
    {
     "name": "stdout",
     "output_type": "stream",
     "text": [
      "{'C++', 'python', 'javascript', 'C', 'java'}\n"
     ]
    }
   ],
   "source": [
    "Subjects = {\n",
    "    \"python\",\"java\",\"C++\",\"python\",\"javascript\",\"java\",\"python\",\"java\",\"C++\",\"C\"\n",
    "}\n",
    "print(Subjects)"
   ]
  },
  {
   "cell_type": "code",
   "execution_count": 240,
   "id": "71604107-e917-4809-bc0c-9aa24176dae7",
   "metadata": {},
   "outputs": [
    {
     "name": "stdout",
     "output_type": "stream",
     "text": [
      "8\n"
     ]
    }
   ],
   "source": [
    "print(len(\"Subjects\"))"
   ]
  },
  {
   "cell_type": "code",
   "execution_count": 7,
   "id": "b0767230-c606-481e-b458-0c80470425e1",
   "metadata": {},
   "outputs": [
    {
     "name": "stdout",
     "output_type": "stream",
     "text": [
      "Pratiksha\n",
      "18\n",
      "Bachelore of computer application\n"
     ]
    }
   ],
   "source": [
    "Name = \"Pratiksha\"\n",
    "Age = 18\n",
    "Education  = \"Bachelore of computer application\"\n",
    "print(Name)\n",
    "print(Age)\n",
    "print(Education)"
   ]
  },
  {
   "cell_type": "code",
   "execution_count": 17,
   "id": "6c32c98e-e009-4092-bc70-6d4dd8b9efbe",
   "metadata": {},
   "outputs": [
    {
     "name": "stdin",
     "output_type": "stream",
     "text": [
      "Enter first num: 45\n",
      "Enter second num: 32\n"
     ]
    },
    {
     "name": "stdout",
     "output_type": "stream",
     "text": [
      "sum= 77\n",
      "<built-in function sum>\n"
     ]
    }
   ],
   "source": [
    "# Write a program to input 2 numbers and print their sum.\n",
    "First = int(input(\"Enter first num:\"))\n",
    "Second = int(input(\"Enter second num:\"))\n",
    "print(\"sum=\",First + Second )\n",
    "print(sum)"
   ]
  },
  {
   "cell_type": "code",
   "execution_count": 1,
   "id": "e11091e9-74f8-414e-bb33-b4bbe712ff07",
   "metadata": {},
   "outputs": [
    {
     "name": "stdin",
     "output_type": "stream",
     "text": [
      "enter first: 8\n",
      "enter second: 7\n"
     ]
    },
    {
     "name": "stdout",
     "output_type": "stream",
     "text": [
      "11.5\n"
     ]
    }
   ],
   "source": [
    "#Write a program to input 21 floating point numbers and print their average.\n",
    "a = float(input(\"enter first:\"))\n",
    "b = float(input(\"enter second:\"))\n",
    "avg = a+b/2\n",
    "print(avg)"
   ]
  },
  {
   "cell_type": "code",
   "execution_count": 5,
   "id": "5cbc5408-4a86-44f4-ba1c-75d3b5dd2062",
   "metadata": {},
   "outputs": [
    {
     "name": "stdin",
     "output_type": "stream",
     "text": [
      "enter first: 6\n",
      "enter second: 7\n"
     ]
    },
    {
     "name": "stdout",
     "output_type": "stream",
     "text": [
      "False\n"
     ]
    }
   ],
   "source": [
    "# Write a program to input 2 int numbers a and b print true if a is greater than or equal to b if not print false.\n",
    "a = int(input(\"enter first:\"))\n",
    "b = int (input(\"enter second:\"))\n",
    "print(a>=b)"
   ]
  },
  {
   "cell_type": "code",
   "execution_count": 17,
   "id": "6e5dd1cf-fe4c-442f-933d-5b65a639f3d1",
   "metadata": {},
   "outputs": [
    {
     "name": "stdout",
     "output_type": "stream",
     "text": [
      "13\n"
     ]
    }
   ],
   "source": [
    "def sum(a,b):\n",
    "    s = a+b\n",
    "    return s\n",
    "print(sum(5,8))"
   ]
  },
  {
   "cell_type": "code",
   "execution_count": 3,
   "id": "1b599352-e263-42f1-8ef7-dd56724dfecf",
   "metadata": {},
   "outputs": [
    {
     "name": "stdout",
     "output_type": "stream",
     "text": [
      "130.0\n",
      "330.0\n",
      "-60\n",
      "0\n"
     ]
    }
   ],
   "source": [
    "def avg(a,b):\n",
    "    t = a+b/2\n",
    "    return t \n",
    "print(avg(90,80))\n",
    "print(avg(30,600))\n",
    "\n",
    "def product(a,b,c):\n",
    "    s = a-b-c\n",
    "    return s\n",
    "print(product(90,80,70))\n",
    "print(product(50,30,20))"
   ]
  },
  {
   "cell_type": "code",
   "execution_count": 1,
   "id": "2e1ee807-ab5a-4322-bfdb-5a4e35a47bfb",
   "metadata": {},
   "outputs": [
    {
     "name": "stdout",
     "output_type": "stream",
     "text": [
      "[23, 98, 87, 35, 46, 76]\n",
      "[56, 89, 90, 10, 30, 32]\n",
      "[23, 98, 87, 35, 46, 76, 56, 89, 90, 10, 30, 32]\n",
      "[56, 89, 90, 10, 30, 32, 23, 98, 87, 35, 46, 76, 56, 89, 90, 10, 30, 32]\n"
     ]
    }
   ],
   "source": [
    "list1 = [23,98,87,35,46,76]\n",
    "list2 = [56,89,90,10,30,32]\n",
    "print(list1)\n",
    "print(list2)\n",
    "list1.extend(list2)\n",
    "print(list1)\n",
    "list2.extend(list1)\n",
    "print(list2)"
   ]
  },
  {
   "cell_type": "code",
   "execution_count": null,
   "id": "a0c178db-d3a3-4bb0-8aee-551c3c5530de",
   "metadata": {},
   "outputs": [],
   "source": []
  },
  {
   "cell_type": "code",
   "execution_count": null,
   "id": "8763d3f4-4e3f-453e-964e-3a3f4b3d4022",
   "metadata": {},
   "outputs": [],
   "source": []
  },
  {
   "cell_type": "code",
   "execution_count": null,
   "id": "fa3830d2-8037-4713-a800-85a6ec809df3",
   "metadata": {},
   "outputs": [],
   "source": []
  }
 ],
 "metadata": {
  "kernelspec": {
   "display_name": "Python 3 (ipykernel)",
   "language": "python",
   "name": "python3"
  },
  "language_info": {
   "codemirror_mode": {
    "name": "ipython",
    "version": 3
   },
   "file_extension": ".py",
   "mimetype": "text/x-python",
   "name": "python",
   "nbconvert_exporter": "python",
   "pygments_lexer": "ipython3",
   "version": "3.12.7"
  }
 },
 "nbformat": 4,
 "nbformat_minor": 5
}
