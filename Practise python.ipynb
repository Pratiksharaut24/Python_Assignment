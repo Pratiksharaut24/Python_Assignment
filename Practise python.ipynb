{
 "cells": [
  {
   "cell_type": "markdown",
   "id": "f92376d3-3bf1-4eb0-a328-b72fc5364dc8",
   "metadata": {},
   "source": [
    "## OOps concept"
   ]
  },
  {
   "cell_type": "code",
   "execution_count": 37,
   "id": "fbadedac-558f-4a6d-9060-f9886cbb1eae",
   "metadata": {},
   "outputs": [],
   "source": [
    "class employee:\n",
    "    def __init__(a,Name,emp_id,salary,city):\n",
    "        a.name=Name\n",
    "        a.emp_id=emp_id\n",
    "        a.salary=salary\n",
    "        a.city=city        "
   ]
  },
  {
   "cell_type": "code",
   "execution_count": 39,
   "id": "c8fb03ef-8915-4df4-a83a-4849fc594fb4",
   "metadata": {},
   "outputs": [],
   "source": [
    "Jhon=employee(\"Jhon\",234,40000,\"Nagpur\")"
   ]
  },
  {
   "cell_type": "code",
   "execution_count": 43,
   "id": "b731398d-4c65-4ae6-b38c-5217eafcfd98",
   "metadata": {},
   "outputs": [
    {
     "data": {
      "text/plain": [
       "40000"
      ]
     },
     "execution_count": 43,
     "metadata": {},
     "output_type": "execute_result"
    }
   ],
   "source": [
    "Jhon.salary"
   ]
  },
  {
   "cell_type": "code",
   "execution_count": 45,
   "id": "05f49fed-d1bd-4c57-aa23-cd37b165960c",
   "metadata": {},
   "outputs": [
    {
     "data": {
      "text/plain": [
       "234"
      ]
     },
     "execution_count": 45,
     "metadata": {},
     "output_type": "execute_result"
    }
   ],
   "source": [
    "Jhon.emp_id"
   ]
  },
  {
   "cell_type": "code",
   "execution_count": 53,
   "id": "89c0b076-d49e-45d7-ac1c-3c6740458f69",
   "metadata": {},
   "outputs": [],
   "source": [
    "Bunny = employee(\"Bunny\",657,50000,\"Nashik\")"
   ]
  },
  {
   "cell_type": "code",
   "execution_count": 63,
   "id": "b423be34-a8f9-40e5-9654-a1565d508a67",
   "metadata": {},
   "outputs": [
    {
     "data": {
      "text/plain": [
       "50000"
      ]
     },
     "execution_count": 63,
     "metadata": {},
     "output_type": "execute_result"
    }
   ],
   "source": [
    "Bunny.salary"
   ]
  },
  {
   "cell_type": "code",
   "execution_count": 84,
   "id": "b8531ead-8b6d-43a8-a30d-c05bfc682079",
   "metadata": {},
   "outputs": [
    {
     "name": "stdout",
     "output_type": "stream",
     "text": [
      "The number is not prime\n"
     ]
    }
   ],
   "source": [
    "class value:\n",
    "    def __init__(self,a):\n",
    "        if a%2==0:\n",
    "            print(\"The number is prime\")\n",
    "        else:\n",
    "            print(\"The number is not prime\")\n",
    "\n",
    "a = value(99)            "
   ]
  },
  {
   "cell_type": "code",
   "execution_count": 22,
   "id": "b82fa565-2ac8-4b49-b9ba-18818fd9e1ca",
   "metadata": {},
   "outputs": [
    {
     "name": "stdout",
     "output_type": "stream",
     "text": [
      "The year is leap year\n"
     ]
    }
   ],
   "source": [
    "#Python program to chcek the leap year.\n",
    "class leap_year:\n",
    "    def __init__(self,year):\n",
    "        if (year%4==0) and (year%100!=0):\n",
    "            print(\"The year is leap year\")\n",
    "        elif (year%400==0) and (year%100==0):\n",
    "            print(\"the year is leap year\")\n",
    "        else:\n",
    "            print(\"The year is not a leap year\")\n",
    "\n",
    "a = leap_year(2024)"
   ]
  },
  {
   "cell_type": "code",
   "execution_count": 28,
   "id": "6a0a5d3d-f653-4d9c-8fae-e863ac41dcbc",
   "metadata": {},
   "outputs": [
    {
     "name": "stdout",
     "output_type": "stream",
     "text": [
      "~~~~~~Mini Calculator~~~~~~\n"
     ]
    },
    {
     "name": "stdin",
     "output_type": "stream",
     "text": [
      "enter the value of num1: 5\n",
      "enter the value of num2: 5\n"
     ]
    },
    {
     "name": "stdout",
     "output_type": "stream",
     "text": [
      "press 1 for addition \n",
      "press 2 for substraction \n",
      "press 3 for multiplication \n",
      "press 4 for division\n"
     ]
    },
    {
     "name": "stdin",
     "output_type": "stream",
     "text": [
      "enter your choice from 1-4: 3\n"
     ]
    },
    {
     "name": "stdout",
     "output_type": "stream",
     "text": [
      "The multiplication of two numbers are:25.0\n"
     ]
    }
   ],
   "source": [
    "#Program to make a simple calculator\n",
    "print(\"~~~~~~Mini Calculator~~~~~~\")\n",
    "num1 = float(input(\"enter the value of num1:\"))\n",
    "num2 = float(input(\"enter the value of num2:\"))\n",
    "l1=[\"+\",\"-\",\"*\",\"/\"]\n",
    "print(\"press 1 for addition \\npress 2 for substraction \\npress 3 for multiplication \\npress 4 for division\")\n",
    "choice = int(input(\"enter your choice from 1-4:\"))\n",
    "if choice == 1:\n",
    "    print(f\"The addition of two numbers are:{num1+num2}\")\n",
    "elif choice == 2:\n",
    "    print(f\"The substraction of two numbers are:{num1-num2}\")\n",
    "elif choice == 3:\n",
    "    print(f\"The multiplication of two numbers are:{num1*num2}\")\n",
    "elif choice == 4:\n",
    "    print(f\"The division of two numbers are:{num1/num2}\")\n",
    "else:\n",
    "    print(\"invalid input\")    "
   ]
  },
  {
   "cell_type": "code",
   "execution_count": 1,
   "id": "72b56cdc-f132-44f4-aa14-33660f4355c6",
   "metadata": {},
   "outputs": [
    {
     "name": "stdin",
     "output_type": "stream",
     "text": [
      "Enter month: 2\n",
      "Enter year: 2025\n"
     ]
    },
    {
     "name": "stdout",
     "output_type": "stream",
     "text": [
      "   February 2025\n",
      "Mo Tu We Th Fr Sa Su\n",
      "                1  2\n",
      " 3  4  5  6  7  8  9\n",
      "10 11 12 13 14 15 16\n",
      "17 18 19 20 21 22 23\n",
      "24 25 26 27 28\n",
      "\n"
     ]
    }
   ],
   "source": [
    "#Display the calendar in python code\n",
    "import calendar\n",
    "month = int(input(\"Enter month:\"))\n",
    "year = int(input(\"Enter year:\"))\n",
    "calendar = calendar.month(year,month)\n",
    "print(calendar)"
   ]
  },
  {
   "cell_type": "code",
   "execution_count": 13,
   "id": "96e8d634-8fa7-4206-9898-13bd55b7ad72",
   "metadata": {},
   "outputs": [
    {
     "name": "stdout",
     "output_type": "stream",
     "text": [
      "[(5, 'Hearts'), (1, 'Club'), (6, 'Club'), (7, 'Diamond'), (7, 'Spade'), (13, 'Spade'), (6, 'Diamond'), (4, 'Diamond'), (12, 'Club'), (11, 'Spade'), (10, 'Club'), (1, 'Spade'), (4, 'Club'), (3, 'Club'), (11, 'Club'), (12, 'Diamond'), (13, 'Hearts'), (12, 'Spade'), (7, 'Hearts'), (13, 'Diamond'), (5, 'Club'), (9, 'Hearts'), (8, 'Club'), (3, 'Spade'), (2, 'Hearts'), (8, 'Hearts'), (5, 'Spade'), (12, 'Hearts'), (4, 'Hearts'), (3, 'Diamond'), (4, 'Spade'), (2, 'Diamond'), (6, 'Hearts'), (7, 'Club'), (13, 'Club'), (8, 'Spade'), (6, 'Spade'), (9, 'Diamond'), (11, 'Hearts'), (1, 'Diamond'), (5, 'Diamond'), (3, 'Hearts'), (1, 'Hearts'), (10, 'Diamond'), (11, 'Diamond'), (8, 'Diamond'), (2, 'Spade'), (10, 'Hearts'), (9, 'Club'), (9, 'Spade'), (10, 'Spade'), (2, 'Club')]\n",
      "5 of Hearts\n",
      "1 of Club\n",
      "6 of Club\n",
      "7 of Diamond\n",
      "7 of Spade\n"
     ]
    }
   ],
   "source": [
    "## Write a code to suffle deck of cards.\n",
    "import random, itertools\n",
    "deck = list(itertools.product(range(1,14),[\"Spade\",\"Club\",\"Hearts\",\"Diamond\"]))\n",
    "random.shuffle(deck)\n",
    "print(deck)\n",
    "for i in range(5):\n",
    "    print(deck[i][0] , \"of\" ,deck[i][1])"
   ]
  },
  {
   "cell_type": "markdown",
   "id": "b6ec973d-5346-4da5-b3d0-613ce8bf7e36",
   "metadata": {},
   "source": [
    "## Matrix question"
   ]
  },
  {
   "cell_type": "code",
   "execution_count": 26,
   "id": "89ac7809-a811-4f91-9b36-333b7e76981a",
   "metadata": {},
   "outputs": [
    {
     "name": "stdout",
     "output_type": "stream",
     "text": [
      "[5, 10, 12]\n",
      "[7, 12, 8]\n",
      "[3, 6, 6]\n"
     ]
    }
   ],
   "source": [
    "## Program in python to add two matrices\n",
    "A = [[1,5,6],\n",
    "     [4,8,3],\n",
    "     [1,3,2]]\n",
    "B = [[4,5,6],\n",
    "     [3,4,5],\n",
    "     [2,3,4]]\n",
    "result = [[0,0,0],\n",
    "          [0,0,0],\n",
    "          [0,0,0]]\n",
    "for i in range(len(A)):\n",
    "    for j in range(len(A[0])):\n",
    "        result[i][j]=A[i][j]+B[i][j]\n",
    "\n",
    "for r in result:\n",
    "    print(r)"
   ]
  },
  {
   "cell_type": "code",
   "execution_count": 1,
   "id": "221bcda2-5b2d-4805-b30a-97189f3fa204",
   "metadata": {},
   "outputs": [],
   "source": [
    "#Decimal to binary / ASCII code conversion code"
   ]
  },
  {
   "cell_type": "code",
   "execution_count": 5,
   "id": "4414d27e-832c-4f23-a1b9-3029517470e5",
   "metadata": {},
   "outputs": [
    {
     "name": "stdin",
     "output_type": "stream",
     "text": [
      "Enter a number here: 45\n"
     ]
    },
    {
     "name": "stdout",
     "output_type": "stream",
     "text": [
      "The conversion of the decimal number 45 is:\n",
      "0b101101 in binary\n",
      "0o55 in octal\n",
      "0x2d in hexadecimal\n"
     ]
    }
   ],
   "source": [
    "decimal=int(input(\"Enter a number here:\"))\n",
    "print(f\"The conversion of the decimal number {decimal} is:\")\n",
    "print(bin(decimal),\"in binary\")\n",
    "print(oct(decimal),\"in octal\")\n",
    "print(hex(decimal),\"in hexadecimal\")            "
   ]
  },
  {
   "cell_type": "code",
   "execution_count": 15,
   "id": "4c1f4d88-963c-4a3d-9f6d-df0ae537687c",
   "metadata": {},
   "outputs": [
    {
     "name": "stdout",
     "output_type": "stream",
     "text": [
      "The ASCII value of p is 112\n"
     ]
    }
   ],
   "source": [
    "#Python code to find ASCII value of character.\n",
    "Name=\"p\"\n",
    "print(\"The ASCII value of\",Name,\"is\",ord(Name))"
   ]
  },
  {
   "cell_type": "code",
   "execution_count": 1,
   "id": "83cf6cbf-6930-45d0-9ae2-261e535575b7",
   "metadata": {},
   "outputs": [
    {
     "ename": "NameError",
     "evalue": "name 'smaller' is not defined",
     "output_type": "error",
     "traceback": [
      "\u001b[1;31m---------------------------------------------------------------------------\u001b[0m",
      "\u001b[1;31mNameError\u001b[0m                                 Traceback (most recent call last)",
      "Cell \u001b[1;32mIn[1], line 8\u001b[0m\n\u001b[0;32m      5\u001b[0m     \u001b[38;5;28;01melse\u001b[39;00m:\n\u001b[0;32m      6\u001b[0m         smaller\u001b[38;5;241m=\u001b[39mx\n\u001b[1;32m----> 8\u001b[0m \u001b[38;5;28;01mfor\u001b[39;00m i \u001b[38;5;129;01min\u001b[39;00m \u001b[38;5;28mrange\u001b[39m (\u001b[38;5;241m1\u001b[39m,smaller\u001b[38;5;241m-\u001b[39m\u001b[38;5;241m1\u001b[39m):\n\u001b[0;32m      9\u001b[0m     \u001b[38;5;28;01mif\u001b[39;00m x\u001b[38;5;241m%\u001b[39m\u001b[38;5;241m2\u001b[39m\u001b[38;5;241m==\u001b[39m\u001b[38;5;241m0\u001b[39m:\n\u001b[0;32m     10\u001b[0m         \u001b[38;5;28mprint\u001b[39m(\u001b[38;5;124m\"\u001b[39m\u001b[38;5;124mPrint hcf of the number:\u001b[39m\u001b[38;5;124m{\u001b[39m\u001b[38;5;124m x\u001b[39m\u001b[38;5;124m%\u001b[39m\u001b[38;5;124m2==0}\u001b[39m\u001b[38;5;124m\"\u001b[39m)\n",
      "\u001b[1;31mNameError\u001b[0m: name 'smaller' is not defined"
     ]
    }
   ],
   "source": [
    "#Python program to find HCF or GCD.\n",
    "def findHCF():\n",
    "    if x>y:\n",
    "        smaller=y\n",
    "    else:\n",
    "        smaller=x\n",
    "        \n",
    "    "
   ]
  },
  {
   "cell_type": "code",
   "execution_count": null,
   "id": "afb6ec34-0e0e-4895-9109-081b20e54e75",
   "metadata": {},
   "outputs": [],
   "source": []
  }
 ],
 "metadata": {
  "kernelspec": {
   "display_name": "Python 3 (ipykernel)",
   "language": "python",
   "name": "python3"
  },
  "language_info": {
   "codemirror_mode": {
    "name": "ipython",
    "version": 3
   },
   "file_extension": ".py",
   "mimetype": "text/x-python",
   "name": "python",
   "nbconvert_exporter": "python",
   "pygments_lexer": "ipython3",
   "version": "3.12.7"
  }
 },
 "nbformat": 4,
 "nbformat_minor": 5
}
