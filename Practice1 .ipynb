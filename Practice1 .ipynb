{
 "cells": [
  {
   "cell_type": "code",
   "execution_count": 3,
   "id": "9e0a8c93-c628-4970-aa51-7a4e8d4b627c",
   "metadata": {},
   "outputs": [],
   "source": [
    "mark = [96,98,89,76,59,90]"
   ]
  },
  {
   "cell_type": "code",
   "execution_count": 5,
   "id": "7d72575a-e3ff-43b9-82a4-ab41d3e01886",
   "metadata": {},
   "outputs": [
    {
     "name": "stdout",
     "output_type": "stream",
     "text": [
      "[96, 98, 89, 76, 59, 90]\n"
     ]
    }
   ],
   "source": [
    "print(mark)"
   ]
  },
  {
   "cell_type": "code",
   "execution_count": 7,
   "id": "969e044f-6817-495e-be42-3fd268fa45b7",
   "metadata": {},
   "outputs": [
    {
     "name": "stdout",
     "output_type": "stream",
     "text": [
      "<class 'list'>\n"
     ]
    }
   ],
   "source": [
    "print(type(mark))"
   ]
  },
  {
   "cell_type": "code",
   "execution_count": 15,
   "id": "42be164f-7407-4790-a89a-cb36bfad9e4e",
   "metadata": {},
   "outputs": [],
   "source": [
    "mark.sort(reverse= False)"
   ]
  },
  {
   "cell_type": "code",
   "execution_count": 17,
   "id": "ed4a7b14-3ffa-4275-a11a-cf2a59999364",
   "metadata": {},
   "outputs": [
    {
     "name": "stdout",
     "output_type": "stream",
     "text": [
      "[59, 76, 89, 90, 96, 98]\n"
     ]
    }
   ],
   "source": [
    "print(mark)"
   ]
  },
  {
   "cell_type": "code",
   "execution_count": 19,
   "id": "c3e737f1-e321-4aa6-9ac8-e18b7955df6a",
   "metadata": {},
   "outputs": [],
   "source": [
    "mark.sort(reverse = True)"
   ]
  },
  {
   "cell_type": "code",
   "execution_count": 21,
   "id": "b96001d3-cdd7-44aa-a8c3-01e8c09e1384",
   "metadata": {},
   "outputs": [
    {
     "name": "stdout",
     "output_type": "stream",
     "text": [
      "[98, 96, 90, 89, 76, 59]\n"
     ]
    }
   ],
   "source": [
    "print(mark)"
   ]
  },
  {
   "cell_type": "code",
   "execution_count": 23,
   "id": "57fde59e-0ea8-48a2-a9d6-e98802ef4da3",
   "metadata": {},
   "outputs": [
    {
     "data": {
      "text/plain": [
       "76"
      ]
     },
     "execution_count": 23,
     "metadata": {},
     "output_type": "execute_result"
    }
   ],
   "source": [
    "mark.pop(4)"
   ]
  },
  {
   "cell_type": "code",
   "execution_count": 31,
   "id": "0fd51dcf-b6ec-4f45-8beb-04507ca844a0",
   "metadata": {},
   "outputs": [],
   "source": [
    "mark.insert(3,56)"
   ]
  },
  {
   "cell_type": "code",
   "execution_count": 36,
   "id": "4a5af086-fac4-40db-99bc-56e74b9ad61f",
   "metadata": {},
   "outputs": [
    {
     "name": "stdout",
     "output_type": "stream",
     "text": [
      "[98, 96, 90, 56, '56', 89, 59]\n"
     ]
    }
   ],
   "source": [
    "print(mark)"
   ]
  },
  {
   "cell_type": "code",
   "execution_count": 38,
   "id": "39e9d87a-d8de-4122-bd2f-b18ef8178526",
   "metadata": {},
   "outputs": [
    {
     "data": {
      "text/plain": [
       "[98, 96, 90, 56]"
      ]
     },
     "execution_count": 38,
     "metadata": {},
     "output_type": "execute_result"
    }
   ],
   "source": [
    "mark[0:4]"
   ]
  },
  {
   "cell_type": "code",
   "execution_count": 42,
   "id": "bc4c6d93-b888-4806-a30a-171e74954879",
   "metadata": {},
   "outputs": [],
   "source": [
    "mark.remove(96)"
   ]
  },
  {
   "cell_type": "code",
   "execution_count": 44,
   "id": "6119f7b4-185f-485d-90c6-3d019664ba7b",
   "metadata": {},
   "outputs": [
    {
     "name": "stdout",
     "output_type": "stream",
     "text": [
      "[98, 90, 56, '56', 89, 59]\n"
     ]
    }
   ],
   "source": [
    "print(mark)"
   ]
  },
  {
   "cell_type": "code",
   "execution_count": 46,
   "id": "b00f92e0-dbcf-4a09-93f4-4a364e0932e0",
   "metadata": {},
   "outputs": [],
   "source": [
    "mark.append(55)"
   ]
  },
  {
   "cell_type": "code",
   "execution_count": 48,
   "id": "cd063cdf-8ce0-47b6-9f65-90e2eea80d4b",
   "metadata": {},
   "outputs": [
    {
     "name": "stdout",
     "output_type": "stream",
     "text": [
      "[98, 90, 56, '56', 89, 59, 55]\n"
     ]
    }
   ],
   "source": [
    "print(mark)"
   ]
  },
  {
   "cell_type": "code",
   "execution_count": 50,
   "id": "a550c82a-1453-40bd-8560-a364b0cd3285",
   "metadata": {},
   "outputs": [],
   "source": [
    "mark1 = tuple(mark)"
   ]
  },
  {
   "cell_type": "code",
   "execution_count": 52,
   "id": "86d93055-e35c-4449-a727-84948c508596",
   "metadata": {},
   "outputs": [
    {
     "name": "stdout",
     "output_type": "stream",
     "text": [
      "(98, 90, 56, '56', 89, 59, 55)\n"
     ]
    }
   ],
   "source": [
    "print(mark1)"
   ]
  },
  {
   "cell_type": "code",
   "execution_count": 54,
   "id": "6a32d725-d091-4311-ab93-f76f9377d6f1",
   "metadata": {},
   "outputs": [],
   "source": [
    "mark2 = list(mark1)"
   ]
  },
  {
   "cell_type": "code",
   "execution_count": 56,
   "id": "f47bb9ab-a4da-4044-8f67-c8bb4a3e3373",
   "metadata": {},
   "outputs": [
    {
     "name": "stdout",
     "output_type": "stream",
     "text": [
      "[98, 90, 56, '56', 89, 59, 55]\n"
     ]
    }
   ],
   "source": [
    "print(mark2)"
   ]
  },
  {
   "cell_type": "code",
   "execution_count": 58,
   "id": "ba1fa0a1-9cbc-4286-a073-c8f3620fc1bc",
   "metadata": {},
   "outputs": [],
   "source": [
    "list1 = [\"car\",\"bus\",\"van\"]"
   ]
  },
  {
   "cell_type": "code",
   "execution_count": 60,
   "id": "05497876-9bff-4b0f-942f-1eaeedf3d812",
   "metadata": {},
   "outputs": [
    {
     "name": "stdout",
     "output_type": "stream",
     "text": [
      "['car', 'bus', 'van']\n"
     ]
    }
   ],
   "source": [
    "print(list1)"
   ]
  },
  {
   "cell_type": "code",
   "execution_count": 62,
   "id": "5a2a10d0-7ab0-4b87-be7d-4365a25f059d",
   "metadata": {},
   "outputs": [],
   "source": [
    "mark.extend(list1)"
   ]
  },
  {
   "cell_type": "code",
   "execution_count": 64,
   "id": "9b9e1df5-bb4f-4875-8f7c-0b1339fc04ec",
   "metadata": {},
   "outputs": [
    {
     "name": "stdout",
     "output_type": "stream",
     "text": [
      "[98, 90, 56, '56', 89, 59, 55, 'car', 'bus', 'van']\n"
     ]
    }
   ],
   "source": [
    "print(mark)"
   ]
  },
  {
   "cell_type": "code",
   "execution_count": 72,
   "id": "de117c05-949b-44b7-af2d-0209532d1656",
   "metadata": {},
   "outputs": [],
   "source": [
    "list1.sort(reverse=True)"
   ]
  },
  {
   "cell_type": "code",
   "execution_count": 74,
   "id": "7bac1243-4697-4753-8c0d-fdb4c2c812d1",
   "metadata": {},
   "outputs": [
    {
     "name": "stdout",
     "output_type": "stream",
     "text": [
      "['van', 'car', 'bus']\n"
     ]
    }
   ],
   "source": [
    "print(list1)"
   ]
  },
  {
   "cell_type": "code",
   "execution_count": 83,
   "id": "eabe9498-639e-4354-92f0-8e8b8fe0a571",
   "metadata": {},
   "outputs": [
    {
     "name": "stdout",
     "output_type": "stream",
     "text": [
      "<class 'tuple'>\n"
     ]
    }
   ],
   "source": [
    "print(type(mark1))"
   ]
  },
  {
   "cell_type": "code",
   "execution_count": 91,
   "id": "ff7b74fb-d181-407b-83df-c650ee78322c",
   "metadata": {},
   "outputs": [
    {
     "data": {
      "text/plain": [
       "3"
      ]
     },
     "execution_count": 91,
     "metadata": {},
     "output_type": "execute_result"
    }
   ],
   "source": [
    "len(list1)"
   ]
  },
  {
   "cell_type": "code",
   "execution_count": 93,
   "id": "edd84a34-9d39-43d6-97a2-2c931d2ad2eb",
   "metadata": {},
   "outputs": [
    {
     "data": {
      "text/plain": [
       "7"
      ]
     },
     "execution_count": 93,
     "metadata": {},
     "output_type": "execute_result"
    }
   ],
   "source": [
    "len(mark1)"
   ]
  },
  {
   "cell_type": "markdown",
   "id": "7c2dee63-8f18-45dc-af74-f8e7675d122b",
   "metadata": {},
   "source": [
    "Write a program to check if a list contains a palindrome of elements.(hint:use copy()method)"
   ]
  },
  {
   "cell_type": "code",
   "execution_count": 103,
   "id": "a9ffb57e-ed37-4172-a125-e975580372c8",
   "metadata": {},
   "outputs": [],
   "source": [
    "list = [1,2,3,2,1]"
   ]
  },
  {
   "cell_type": "code",
   "execution_count": 105,
   "id": "59d99424-f883-478b-9f51-52e0e9445351",
   "metadata": {},
   "outputs": [
    {
     "name": "stdout",
     "output_type": "stream",
     "text": [
      "[1, 2, 3, 2, 1]\n"
     ]
    }
   ],
   "source": [
    "print(list)"
   ]
  },
  {
   "cell_type": "code",
   "execution_count": 109,
   "id": "48372687-e546-4006-80e3-994fc20b6666",
   "metadata": {},
   "outputs": [],
   "source": [
    "list1 = [1,2,3,4]"
   ]
  },
  {
   "cell_type": "code",
   "execution_count": 111,
   "id": "58437330-b45b-43b3-a221-3e7cc6467553",
   "metadata": {},
   "outputs": [
    {
     "name": "stdout",
     "output_type": "stream",
     "text": [
      "[1, 2, 3, 4]\n"
     ]
    }
   ],
   "source": [
    "print(list1)"
   ]
  },
  {
   "cell_type": "code",
   "execution_count": 113,
   "id": "5c6adcd4-bf8a-4826-b502-98f214a58849",
   "metadata": {},
   "outputs": [
    {
     "data": {
      "text/plain": [
       "[1, 2, 3, 2, 1]"
      ]
     },
     "execution_count": 113,
     "metadata": {},
     "output_type": "execute_result"
    }
   ],
   "source": [
    "list.copy()"
   ]
  },
  {
   "cell_type": "code",
   "execution_count": 123,
   "id": "09aa0426-700c-4b72-8c60-f71728c2cfde",
   "metadata": {},
   "outputs": [],
   "source": [
    "list.reverse()"
   ]
  },
  {
   "cell_type": "code",
   "execution_count": 125,
   "id": "b1510ca9-6f88-4bec-856c-43b7f08e5336",
   "metadata": {},
   "outputs": [
    {
     "name": "stdout",
     "output_type": "stream",
     "text": [
      "[1, 2, 3, 2, 1]\n"
     ]
    }
   ],
   "source": [
    "print(list)"
   ]
  },
  {
   "cell_type": "code",
   "execution_count": 131,
   "id": "5446d580-0f6f-4e66-a0e6-193b21fc2b74",
   "metadata": {},
   "outputs": [
    {
     "data": {
      "text/plain": [
       "[1, 2, 3, 4]"
      ]
     },
     "execution_count": 131,
     "metadata": {},
     "output_type": "execute_result"
    }
   ],
   "source": [
    "list1.copy()"
   ]
  },
  {
   "cell_type": "code",
   "execution_count": 139,
   "id": "6961662d-1122-48b8-ab25-fbcd5862bb89",
   "metadata": {},
   "outputs": [],
   "source": [
    "list.reverse()"
   ]
  },
  {
   "cell_type": "code",
   "execution_count": 141,
   "id": "45ccf1d5-f74c-4024-9317-3ecc59260b03",
   "metadata": {},
   "outputs": [
    {
     "name": "stdout",
     "output_type": "stream",
     "text": [
      "[1, 2, 3, 4]\n"
     ]
    }
   ],
   "source": [
    "print(list1)"
   ]
  },
  {
   "cell_type": "code",
   "execution_count": 143,
   "id": "ee5e797d-0c14-40e0-bafa-36f3da6f76eb",
   "metadata": {},
   "outputs": [],
   "source": [
    "str = \"I am the coder\""
   ]
  },
  {
   "cell_type": "code",
   "execution_count": 145,
   "id": "cfa17543-4ce4-4916-b637-f7f1ee85e4ab",
   "metadata": {},
   "outputs": [
    {
     "name": "stdout",
     "output_type": "stream",
     "text": [
      "I am the coder\n"
     ]
    }
   ],
   "source": [
    "print(str)"
   ]
  },
  {
   "cell_type": "code",
   "execution_count": 154,
   "id": "e9d4efc3-7178-4cdb-b192-69ff6b1d1007",
   "metadata": {},
   "outputs": [
    {
     "data": {
      "text/plain": [
       "'I am the coder'"
      ]
     },
     "execution_count": 154,
     "metadata": {},
     "output_type": "execute_result"
    }
   ],
   "source": [
    "str.capitalize()"
   ]
  },
  {
   "cell_type": "code",
   "execution_count": 156,
   "id": "71ae9489-61af-42ab-910d-b9155c6e0343",
   "metadata": {},
   "outputs": [
    {
     "data": {
      "text/plain": [
       "'I am the sketcher'"
      ]
     },
     "execution_count": 156,
     "metadata": {},
     "output_type": "execute_result"
    }
   ],
   "source": [
    "str.replace(\"coder\",\"sketcher\")"
   ]
  },
  {
   "cell_type": "code",
   "execution_count": 158,
   "id": "7ddb157a-021d-472f-bd22-cc3553bf93c3",
   "metadata": {},
   "outputs": [
    {
     "data": {
      "text/plain": [
       "1"
      ]
     },
     "execution_count": 158,
     "metadata": {},
     "output_type": "execute_result"
    }
   ],
   "source": [
    "str.count(\"am\")"
   ]
  },
  {
   "cell_type": "code",
   "execution_count": 166,
   "id": "66ab5701-58bc-46bb-8295-ee97168236a6",
   "metadata": {},
   "outputs": [
    {
     "data": {
      "text/plain": [
       "2"
      ]
     },
     "execution_count": 166,
     "metadata": {},
     "output_type": "execute_result"
    }
   ],
   "source": [
    "str.find(\"am\")"
   ]
  },
  {
   "cell_type": "code",
   "execution_count": 168,
   "id": "c99c87e3-748a-418b-939b-f9e6c5b1bef7",
   "metadata": {},
   "outputs": [
    {
     "data": {
      "text/plain": [
       "9"
      ]
     },
     "execution_count": 168,
     "metadata": {},
     "output_type": "execute_result"
    }
   ],
   "source": [
    "str.find(\"coder\")"
   ]
  },
  {
   "cell_type": "code",
   "execution_count": 170,
   "id": "047a64b9-2b0f-48dd-9f3f-e16b73329e04",
   "metadata": {},
   "outputs": [],
   "source": [
    "a = \"Apple\""
   ]
  },
  {
   "cell_type": "code",
   "execution_count": 3,
   "id": "c05279db-1ff9-4d3e-baba-1dcd0f8a8a0c",
   "metadata": {},
   "outputs": [
    {
     "ename": "NameError",
     "evalue": "name 'a' is not defined",
     "output_type": "error",
     "traceback": [
      "\u001b[1;31m---------------------------------------------------------------------------\u001b[0m",
      "\u001b[1;31mNameError\u001b[0m                                 Traceback (most recent call last)",
      "Cell \u001b[1;32mIn[3], line 1\u001b[0m\n\u001b[1;32m----> 1\u001b[0m \u001b[38;5;28mprint\u001b[39m(a)\n",
      "\u001b[1;31mNameError\u001b[0m: name 'a' is not defined"
     ]
    }
   ],
   "source": [
    "print(a)"
   ]
  },
  {
   "cell_type": "code",
   "execution_count": 1,
   "id": "eac45e0b-f9ea-47c4-ac3a-a563a9fbf42a",
   "metadata": {},
   "outputs": [
    {
     "ename": "TypeError",
     "evalue": "type 'str' is not subscriptable",
     "output_type": "error",
     "traceback": [
      "\u001b[1;31m---------------------------------------------------------------------------\u001b[0m",
      "\u001b[1;31mTypeError\u001b[0m                                 Traceback (most recent call last)",
      "Cell \u001b[1;32mIn[1], line 1\u001b[0m\n\u001b[1;32m----> 1\u001b[0m \u001b[38;5;28mstr\u001b[39m[\u001b[38;5;241m-\u001b[39m\u001b[38;5;241m1\u001b[39m:\u001b[38;5;241m-\u001b[39m\u001b[38;5;241m3\u001b[39m]\n",
      "\u001b[1;31mTypeError\u001b[0m: type 'str' is not subscriptable"
     ]
    }
   ],
   "source": [
    "str[-1:-3]"
   ]
  },
  {
   "cell_type": "code",
   "execution_count": null,
   "id": "2cd7d0c4-af95-435a-b64b-b347c8553339",
   "metadata": {},
   "outputs": [],
   "source": []
  }
 ],
 "metadata": {
  "kernelspec": {
   "display_name": "Python 3 (ipykernel)",
   "language": "python",
   "name": "python3"
  },
  "language_info": {
   "codemirror_mode": {
    "name": "ipython",
    "version": 3
   },
   "file_extension": ".py",
   "mimetype": "text/x-python",
   "name": "python",
   "nbconvert_exporter": "python",
   "pygments_lexer": "ipython3",
   "version": "3.12.7"
  }
 },
 "nbformat": 4,
 "nbformat_minor": 5
}
