{
 "cells": [
  {
   "cell_type": "code",
   "execution_count": 1,
   "id": "e83d65c4-dc5a-4256-851a-8ab65ab4a4e2",
   "metadata": {},
   "outputs": [
    {
     "name": "stdout",
     "output_type": "stream",
     "text": [
      "[66, 45, 29, 87, 10, 35]\n",
      "[46, 90, 20, 40, 54, 93]\n",
      "[10, 29, 35, 45, 66, 87]\n",
      "[20, 40, 46, 54, 90, 93]\n"
     ]
    }
   ],
   "source": [
    "list1 = [66,45,29,87,10,35]\n",
    "list2 = [46,90,20,40,54,93]\n",
    "print(list1)\n",
    "print(list2)\n",
    "list1.sort()\n",
    "list2.sort()\n",
    "print(list1)\n",
    "print(list2)"
   ]
  },
  {
   "cell_type": "code",
   "execution_count": 3,
   "id": "2fafa18a-c0e9-4da1-a7d6-d297ab6acbbe",
   "metadata": {},
   "outputs": [
    {
     "name": "stdout",
     "output_type": "stream",
     "text": [
      "[10, 9, 29, 35, 45, 66, 87]\n",
      "[20, 40, 46, 54, 90, 86, 93]\n",
      "[10, 9, 29, 35, 45, 66, 87, 20, 40, 46, 54, 90, 86, 93]\n",
      "[20, 40, 46, 54, 90, 86, 93, 10, 9, 29, 35, 45, 66, 87, 20, 40, 46, 54, 90, 86, 93]\n"
     ]
    }
   ],
   "source": [
    "list1.insert(1,9)\n",
    "print(list1)\n",
    "list2.insert(5,86)\n",
    "print(list2)\n",
    "list1.extend(list2)\n",
    "print(list1)\n",
    "list2.extend(list1)\n",
    "print(list2)\n",
    "list1.append(9)"
   ]
  },
  {
   "cell_type": "code",
   "execution_count": 4,
   "id": "aff32134-f0ff-42a0-82b7-f72391825ae2",
   "metadata": {},
   "outputs": [
    {
     "name": "stdout",
     "output_type": "stream",
     "text": [
      "[9, 29, 35, 45, 66, 87, 20, 40, 46, 54, 90, 86, 93, 9]\n"
     ]
    }
   ],
   "source": [
    "list1.remove(10)\n",
    "print(list1)"
   ]
  },
  {
   "cell_type": "code",
   "execution_count": 7,
   "id": "833bcc60-b2c8-43a9-82a0-75a6b99039f7",
   "metadata": {},
   "outputs": [
    {
     "ename": "ValueError",
     "evalue": "list.remove(x): x not in list",
     "output_type": "error",
     "traceback": [
      "\u001b[1;31m---------------------------------------------------------------------------\u001b[0m",
      "\u001b[1;31mValueError\u001b[0m                                Traceback (most recent call last)",
      "Cell \u001b[1;32mIn[7], line 1\u001b[0m\n\u001b[1;32m----> 1\u001b[0m list1\u001b[38;5;241m.\u001b[39mremove(\u001b[38;5;241m10\u001b[39m)\n\u001b[0;32m      2\u001b[0m \u001b[38;5;28mprint\u001b[39m(list1)\n",
      "\u001b[1;31mValueError\u001b[0m: list.remove(x): x not in list"
     ]
    }
   ],
   "source": [
    "list1.remove(10)\n",
    "print(list1)"
   ]
  },
  {
   "cell_type": "code",
   "execution_count": null,
   "id": "de7876e8-8e42-464a-90a4-5d9b72515607",
   "metadata": {},
   "outputs": [],
   "source": [
    "Tuple = ()\n",
    "print(Tuple)"
   ]
  },
  {
   "cell_type": "code",
   "execution_count": 10,
   "id": "22e29a60-8f62-4b2b-b3b4-c769de2282b5",
   "metadata": {},
   "outputs": [
    {
     "name": "stdout",
     "output_type": "stream",
     "text": [
      "('Cheery', 'Kiwi', 'Papaya', 'Apple')\n"
     ]
    },
    {
     "data": {
      "text/plain": [
       "4"
      ]
     },
     "execution_count": 10,
     "metadata": {},
     "output_type": "execute_result"
    }
   ],
   "source": [
    "Tuple1 = (\"Cheery\",\"Kiwi\",\"Papaya\",\"Apple\")\n",
    "print(Tuple1)\n",
    "len(Tuple1)"
   ]
  },
  {
   "cell_type": "code",
   "execution_count": 12,
   "id": "c8d2fa5f-f281-4326-b297-be44f3271fe8",
   "metadata": {},
   "outputs": [
    {
     "name": "stdout",
     "output_type": "stream",
     "text": [
      "['Cheery', 'Kiwi', 'Papaya', 'Apple']\n",
      "['Cheery', 'Kiwi', 'Papaya', 'Apple', 'Orange']\n",
      "('Cheery', 'Kiwi', 'Papaya', 'Apple', 'Orange')\n"
     ]
    },
    {
     "data": {
      "text/plain": [
       "('Kiwi', 'Papaya', 'Apple')"
      ]
     },
     "execution_count": 12,
     "metadata": {},
     "output_type": "execute_result"
    }
   ],
   "source": [
    "Tuple2 = list(Tuple1)\n",
    "print(Tuple2)\n",
    "Tuple2.append(\"Orange\")\n",
    "print(Tuple2)\n",
    "Tuple1 = tuple(Tuple2)\n",
    "print(Tuple1)\n",
    "len(Tuple1)\n",
    "Tuple1[1:4]"
   ]
  },
  {
   "cell_type": "code",
   "execution_count": 14,
   "id": "9ffb9305-765a-4261-8794-946d770d2643",
   "metadata": {},
   "outputs": [
    {
     "name": "stdout",
     "output_type": "stream",
     "text": [
      "('Van', 'Car', 'Bike', 'Truck')\n",
      "Bike Car\n",
      "Van\n",
      "['Car', 'Bike', 'Truck']\n"
     ]
    }
   ],
   "source": [
    "Vehicle = (\"Van\",\"Car\",\"Bike\",\"Truck\")\n",
    "print(Vehicle)\n",
    "(Van,Car,Bike,Truck) = Vehicle\n",
    "print(Bike,Car)\n",
    "(Van,*Car) = Vehicle\n",
    "print(Van)\n",
    "print(Car)"
   ]
  },
  {
   "cell_type": "code",
   "execution_count": 16,
   "id": "47e1e85f-3b75-48f3-9f45-b3d88e842548",
   "metadata": {},
   "outputs": [
    {
     "name": "stdout",
     "output_type": "stream",
     "text": [
      "(35, 87, 98, 30, 20)\n"
     ]
    },
    {
     "data": {
      "text/plain": [
       "3"
      ]
     },
     "execution_count": 16,
     "metadata": {},
     "output_type": "execute_result"
    }
   ],
   "source": [
    "Num1 = (35,87,98,30,20)\n",
    "print(Num1)\n",
    "Num1.count(30)\n",
    "Num1.index(30)"
   ]
  },
  {
   "cell_type": "code",
   "execution_count": 18,
   "id": "d455430b-703f-45f3-a535-4978f8e960be",
   "metadata": {},
   "outputs": [
    {
     "name": "stdout",
     "output_type": "stream",
     "text": [
      "('Bedsheet', 'Knife', 'Spoon', 'Toys', 'Covers')\n",
      "['Bedsheet', 'Knife', 'Spoon', 'Toys', 'Covers']\n",
      "['Bedsheet', 'Covers', 'Knife', 'Spoon', 'Toys']\n"
     ]
    }
   ],
   "source": [
    "Stores = (\"Bedsheet\",\"Knife\",\"Spoon\",\"Toys\",\"Covers\")\n",
    "print(Stores)\n",
    "Store1 = list(Stores)\n",
    "print(Store1)\n",
    "Store1.sort()\n",
    "print(Store1)"
   ]
  },
  {
   "cell_type": "code",
   "execution_count": 20,
   "id": "cafa5f3b-a5cb-4963-9a3f-df381e61f8c5",
   "metadata": {},
   "outputs": [
    {
     "name": "stdout",
     "output_type": "stream",
     "text": [
      "['Bedsheet', 'Covers', 'Knife', 'Spoon', 'Toys', 'Sofa']\n",
      "['Bedsheet', 'Covers', 'Cushion', 'Knife', 'Spoon', 'Toys', 'Sofa']\n",
      "['Bedsheet', 'Cushion', 'Knife', 'Spoon', 'Toys', 'Sofa']\n",
      "['Cushion', 'Knife', 'Spoon', 'Toys', 'Sofa']\n"
     ]
    }
   ],
   "source": [
    "len(Store1)\n",
    "Store1.append(\"Sofa\")\n",
    "print(Store1)\n",
    "Store1.insert(2,\"Cushion\")\n",
    "print(Store1)\n",
    "Store1.remove(\"Covers\")\n",
    "print(Store1)\n",
    "Store1.pop(0)\n",
    "print(Store1)"
   ]
  },
  {
   "cell_type": "code",
   "execution_count": 22,
   "id": "0aacef14-b6a0-47a1-bbbb-c7124e266629",
   "metadata": {},
   "outputs": [
    {
     "name": "stdout",
     "output_type": "stream",
     "text": [
      "('Cushion', 'Knife', 'Spoon', 'Toys', 'Sofa')\n"
     ]
    }
   ],
   "source": [
    "Stores = tuple(Store1)\n",
    "print(Stores)"
   ]
  },
  {
   "cell_type": "markdown",
   "id": "21217988-548e-4875-9a1b-81cae17e0fcc",
   "metadata": {},
   "source": [
    "## \n",
    "\n",
    "Set"
   ]
  },
  {
   "cell_type": "code",
   "execution_count": 25,
   "id": "9658e941-0413-40fd-b6fb-ecaa0ed58e64",
   "metadata": {},
   "outputs": [
    {
     "name": "stdout",
     "output_type": "stream",
     "text": [
      "{'Car', 'Truck', 'Van', 'Bike'}\n"
     ]
    },
    {
     "data": {
      "text/plain": [
       "set"
      ]
     },
     "execution_count": 25,
     "metadata": {},
     "output_type": "execute_result"
    }
   ],
   "source": [
    "Set1 = {\"Van\",\"Car\",\"Bike\",\"Truck\"}\n",
    "print(Set1)\n",
    "type(Set1)"
   ]
  },
  {
   "cell_type": "code",
   "execution_count": 27,
   "id": "c8e9dd25-787b-429c-b14b-6c8a232f3dc3",
   "metadata": {},
   "outputs": [
    {
     "name": "stdout",
     "output_type": "stream",
     "text": [
      "{'Scooty', 'Van', 'Car', 'Truck', 'Bike'}\n",
      "False\n",
      "True\n"
     ]
    }
   ],
   "source": [
    "Set1.add(\"Scooty\")\n",
    "print(Set1)\n",
    "print('bike' in Set1)\n",
    "print('Bike' in Set1)"
   ]
  },
  {
   "cell_type": "code",
   "execution_count": 29,
   "id": "06bc745a-2f03-400d-9030-869442c0ef5b",
   "metadata": {},
   "outputs": [
    {
     "name": "stdout",
     "output_type": "stream",
     "text": [
      "['Scooty', 'Van', 'Car', 'Truck', 'Bike']\n",
      "['Scooty', 'Van', 'Car', 'Truck']\n"
     ]
    }
   ],
   "source": [
    "Vehicle = list(Set1)\n",
    "print(Vehicle)\n",
    "Vehicle.remove(\"Bike\")\n",
    "print(Vehicle)"
   ]
  },
  {
   "cell_type": "code",
   "execution_count": 31,
   "id": "b9e9fbe8-317f-454e-91f4-f4598c2cd81c",
   "metadata": {},
   "outputs": [
    {
     "name": "stdout",
     "output_type": "stream",
     "text": [
      "{'Car', 'Truck', 'Scooty', 'Van'}\n"
     ]
    }
   ],
   "source": [
    "Set1 = set(Vehicle)\n",
    "print(Set1)"
   ]
  },
  {
   "cell_type": "code",
   "execution_count": 33,
   "id": "cba76478-9445-4e2c-be4c-46cacfc9b9e7",
   "metadata": {},
   "outputs": [
    {
     "name": "stdout",
     "output_type": "stream",
     "text": [
      "{34, 99, 70, 44, 46, 80, 20, 87, 26, 28}\n",
      "{34, 46, 87, 26, 28}\n"
     ]
    }
   ],
   "source": [
    "Set2 = {34,28,87,26,46}\n",
    "Set3 = {44,99,80,70,20}\n",
    "Set2.update(Set3)\n",
    "print(Set2)\n",
    "Set4 = Set2 | Set3\n",
    "Set4 = Set2 & Set3\n",
    "Set4 = Set2 ^ Set3\n",
    "Set4 = Set2 - Set3\n",
    "print(Set4)"
   ]
  },
  {
   "cell_type": "code",
   "execution_count": 35,
   "id": "81ec5768-8b1b-44e5-a170-affa6b80f6f1",
   "metadata": {},
   "outputs": [
    {
     "data": {
      "text/plain": [
       "{20, 26, 28, 34, 44, 46, 70, 80, 87, 99, 'Car', 'Scooty', 'Truck', 'Van'}"
      ]
     },
     "execution_count": 35,
     "metadata": {},
     "output_type": "execute_result"
    }
   ],
   "source": [
    "Set2.union(Set3,Set1)"
   ]
  },
  {
   "cell_type": "code",
   "execution_count": 37,
   "id": "456cd2a7-15ac-4bf6-8f54-610fedba69e2",
   "metadata": {},
   "outputs": [
    {
     "data": {
      "text/plain": [
       "set()"
      ]
     },
     "execution_count": 37,
     "metadata": {},
     "output_type": "execute_result"
    }
   ],
   "source": [
    "Set2.intersection(Set3,Set1)"
   ]
  },
  {
   "cell_type": "markdown",
   "id": "ba790b04-1a16-4adb-9a8b-0c9c186db29f",
   "metadata": {},
   "source": [
    "## Dictionary"
   ]
  },
  {
   "cell_type": "code",
   "execution_count": 40,
   "id": "f5dbfcc2-1697-4543-938f-9e4d5ca134dd",
   "metadata": {},
   "outputs": [
    {
     "data": {
      "text/plain": [
       "dict"
      ]
     },
     "execution_count": 40,
     "metadata": {},
     "output_type": "execute_result"
    }
   ],
   "source": [
    "dic = {\"key\":\"Value\"}\n",
    "type(dic)"
   ]
  },
  {
   "cell_type": "code",
   "execution_count": 42,
   "id": "de7fec76-32da-497b-86d8-1c460f742aad",
   "metadata": {},
   "outputs": [
    {
     "data": {
      "text/plain": [
       "3"
      ]
     },
     "execution_count": 42,
     "metadata": {},
     "output_type": "execute_result"
    }
   ],
   "source": [
    "dic = {\"key1\":\"Value1\",\"key2\":\"Value2\",\"key3\":\"Value3\"}\n",
    "len(dic)"
   ]
  },
  {
   "cell_type": "code",
   "execution_count": 44,
   "id": "a93d2eec-8ec1-4b96-9442-5b61e4c2c876",
   "metadata": {},
   "outputs": [
    {
     "data": {
      "text/plain": [
       "dict_items([('key1', 'Value1'), ('key2', 'Value2'), ('key3', 'Value3')])"
      ]
     },
     "execution_count": 44,
     "metadata": {},
     "output_type": "execute_result"
    }
   ],
   "source": [
    "dic.items()"
   ]
  },
  {
   "cell_type": "code",
   "execution_count": 46,
   "id": "afd4912e-5720-4fc7-8907-8326f14de377",
   "metadata": {},
   "outputs": [
    {
     "data": {
      "text/plain": [
       "'Value2'"
      ]
     },
     "execution_count": 46,
     "metadata": {},
     "output_type": "execute_result"
    }
   ],
   "source": [
    "dic[\"key2\"]"
   ]
  },
  {
   "cell_type": "code",
   "execution_count": 48,
   "id": "c42440d4-0ad3-4397-8727-1562518e0607",
   "metadata": {},
   "outputs": [
    {
     "data": {
      "text/plain": [
       "dict_keys(['key1', 'key2', 'key3'])"
      ]
     },
     "execution_count": 48,
     "metadata": {},
     "output_type": "execute_result"
    }
   ],
   "source": [
    "dic.keys()"
   ]
  },
  {
   "cell_type": "code",
   "execution_count": 50,
   "id": "3ccc009a-efcd-48ed-ba56-6b2d9ae9a838",
   "metadata": {},
   "outputs": [
    {
     "data": {
      "text/plain": [
       "dict_values(['Value1', 'Value2', 'Value3'])"
      ]
     },
     "execution_count": 50,
     "metadata": {},
     "output_type": "execute_result"
    }
   ],
   "source": [
    "dic.values()"
   ]
  },
  {
   "cell_type": "code",
   "execution_count": 52,
   "id": "3d59e577-dfda-4c49-a0ee-6e6c4034955d",
   "metadata": {},
   "outputs": [
    {
     "name": "stdout",
     "output_type": "stream",
     "text": [
      "{'Name': 'Pratiksha', 'Salary': '60k', 'Employee id': '435'}\n"
     ]
    },
    {
     "data": {
      "text/plain": [
       "'60k'"
      ]
     },
     "execution_count": 52,
     "metadata": {},
     "output_type": "execute_result"
    }
   ],
   "source": [
    "Employee = {\"Name\":\"Pratiksha\",\"Salary\":\"60k\",\"Employee id\":\"435\"}\n",
    "print(Employee)\n",
    "Employee[\"Salary\"]"
   ]
  },
  {
   "cell_type": "code",
   "execution_count": 54,
   "id": "f6e5768c-e1d0-4b48-9cc1-08e9be6b9a98",
   "metadata": {},
   "outputs": [
    {
     "name": "stdout",
     "output_type": "stream",
     "text": [
      "{'Name': 'Pratiksha', 'Salary': '60k', 'Employee id': '435', 'Dept': 'Computer'}\n"
     ]
    }
   ],
   "source": [
    "Employee[\"Dept\"] = \"Computer\"\n",
    "print(Employee)"
   ]
  },
  {
   "cell_type": "code",
   "execution_count": 56,
   "id": "60c9f902-e809-4de0-a504-ead2dd6554f0",
   "metadata": {},
   "outputs": [
    {
     "data": {
      "text/plain": [
       "'Computer'"
      ]
     },
     "execution_count": 56,
     "metadata": {},
     "output_type": "execute_result"
    }
   ],
   "source": [
    "Employee.pop(\"Dept\")"
   ]
  },
  {
   "cell_type": "code",
   "execution_count": 58,
   "id": "eca76137-4e69-4ea2-a6a7-5199a8f9535a",
   "metadata": {},
   "outputs": [
    {
     "data": {
      "text/plain": [
       "dict_values(['Pratiksha', '60k', '435'])"
      ]
     },
     "execution_count": 58,
     "metadata": {},
     "output_type": "execute_result"
    }
   ],
   "source": [
    "Employee.values()"
   ]
  },
  {
   "cell_type": "code",
   "execution_count": 60,
   "id": "6ea49c0b-f300-4ce5-bc46-598b48ea1507",
   "metadata": {},
   "outputs": [
    {
     "name": "stdout",
     "output_type": "stream",
     "text": [
      "{'a': {'b': {'c': {'d': 123456}}}}\n"
     ]
    }
   ],
   "source": [
    "A = {\"a\":{\"b\":{\"c\":{\"d\":123456}}}}\n",
    "print(A)"
   ]
  },
  {
   "cell_type": "code",
   "execution_count": 62,
   "id": "272dce69-446c-4b6d-8557-708e1e2fe278",
   "metadata": {},
   "outputs": [
    {
     "data": {
      "text/plain": [
       "{'c': {'d': 123456}}"
      ]
     },
     "execution_count": 62,
     "metadata": {},
     "output_type": "execute_result"
    }
   ],
   "source": [
    "A[\"a\"][\"b\"]"
   ]
  },
  {
   "cell_type": "code",
   "execution_count": 64,
   "id": "fb7040e9-a41a-4c2e-93d5-c44e8c7851ff",
   "metadata": {},
   "outputs": [
    {
     "data": {
      "text/plain": [
       "123456"
      ]
     },
     "execution_count": 64,
     "metadata": {},
     "output_type": "execute_result"
    }
   ],
   "source": [
    "A[\"a\"][\"b\"][\"c\"][\"d\"]"
   ]
  },
  {
   "cell_type": "code",
   "execution_count": 66,
   "id": "cefbda13-3cfe-4317-8c5c-0713e68d3bc8",
   "metadata": {},
   "outputs": [
    {
     "name": "stdout",
     "output_type": "stream",
     "text": [
      "{'Company': {'employee': {'names': 'Jess', 'payable': {'salary': 9000, 'increment': 12}}}}\n"
     ]
    }
   ],
   "source": [
    "#Access the nested key increment from the following dictionary Access 12\n",
    "emp_dic = {\"Company\":{\"employee\":{\"names\":\"Jess\",\"payable\":{\"salary\":9000,\"increment\":12}}}}\n",
    "print(emp_dic)"
   ]
  },
  {
   "cell_type": "code",
   "execution_count": 68,
   "id": "0c60f6d9-a5b8-4a82-9d0b-a5372543ef13",
   "metadata": {},
   "outputs": [
    {
     "data": {
      "text/plain": [
       "12"
      ]
     },
     "execution_count": 68,
     "metadata": {},
     "output_type": "execute_result"
    }
   ],
   "source": [
    "emp_dic[\"Company\"][\"employee\"][\"payable\"][\"increment\"]"
   ]
  },
  {
   "cell_type": "code",
   "execution_count": 70,
   "id": "49d6f361-c3c1-41fa-a9f2-46d70569dab9",
   "metadata": {},
   "outputs": [
    {
     "data": {
      "text/plain": [
       "dict_keys(['Company'])"
      ]
     },
     "execution_count": 70,
     "metadata": {},
     "output_type": "execute_result"
    }
   ],
   "source": [
    "emp_dic.keys()"
   ]
  },
  {
   "cell_type": "code",
   "execution_count": 72,
   "id": "5ba9a5d4-72cf-47a8-96bc-2af5a1eb4957",
   "metadata": {},
   "outputs": [
    {
     "name": "stdout",
     "output_type": "stream",
     "text": [
      "{'company': {'employees': [{'id': 1, 'details': {'names': 'Jess', 'payable': {'salary': 17000, 'increment': 60}}}, {'id': 2, 'details': {'names': 'Mike', 'payable': {'salary': 80000, 'increment': 10}}}]}}\n"
     ]
    }
   ],
   "source": [
    "Company_dict = {\n",
    "    \"company\":{\n",
    "        \"employees\":[\n",
    "            {\n",
    "                \"id\":1,\n",
    "                \"details\":{\n",
    "                    \"names\":\"Jess\",\n",
    "                    \"payable\":{\n",
    "                        \"salary\":17000,\n",
    "                        \"increment\":60\n",
    "                    }\n",
    "                }\n",
    "            },\n",
    "            {\n",
    "                \"id\":2,\n",
    "                \"details\":{\n",
    "                    \"names\":\"Mike\",\n",
    "                    \"payable\":{\n",
    "                        \"salary\":80000,\n",
    "                        \"increment\":10\n",
    "                    }\n",
    "                }\n",
    "            }\n",
    "        ]\n",
    "    }\n",
    "}\n",
    "print(Company_dict)"
   ]
  },
  {
   "cell_type": "code",
   "execution_count": 74,
   "id": "c9c18ed2-389c-4c93-a06e-19fa69b1f2e4",
   "metadata": {},
   "outputs": [
    {
     "data": {
      "text/plain": [
       "dict_keys(['company'])"
      ]
     },
     "execution_count": 74,
     "metadata": {},
     "output_type": "execute_result"
    }
   ],
   "source": [
    "Company_dict.keys()"
   ]
  },
  {
   "cell_type": "code",
   "execution_count": 76,
   "id": "28d1a5a4-18ea-4579-a209-393bb35705e5",
   "metadata": {},
   "outputs": [
    {
     "data": {
      "text/plain": [
       "{'employees': [{'id': 1,\n",
       "   'details': {'names': 'Jess',\n",
       "    'payable': {'salary': 17000, 'increment': 60}}},\n",
       "  {'id': 2,\n",
       "   'details': {'names': 'Mike',\n",
       "    'payable': {'salary': 80000, 'increment': 10}}}]}"
      ]
     },
     "execution_count": 76,
     "metadata": {},
     "output_type": "execute_result"
    }
   ],
   "source": [
    "Company_dict[\"company\"]"
   ]
  },
  {
   "cell_type": "code",
   "execution_count": 78,
   "id": "5c347815-d32d-4d22-88b7-d065c514c321",
   "metadata": {},
   "outputs": [
    {
     "data": {
      "text/plain": [
       "10"
      ]
     },
     "execution_count": 78,
     "metadata": {},
     "output_type": "execute_result"
    }
   ],
   "source": [
    "Company_dict[\"company\"][\"employees\"][1][\"details\"][\"payable\"][\"increment\"]"
   ]
  },
  {
   "cell_type": "code",
   "execution_count": 80,
   "id": "54a4b190-2c59-4af0-b8ac-14a6210729b9",
   "metadata": {},
   "outputs": [
    {
     "data": {
      "text/plain": [
       "60"
      ]
     },
     "execution_count": 80,
     "metadata": {},
     "output_type": "execute_result"
    }
   ],
   "source": [
    "\n",
    "Company_dict[\"company\"][\"employees\"][0][\"details\"][\"payable\"][\"increment\"]"
   ]
  },
  {
   "cell_type": "code",
   "execution_count": 82,
   "id": "63e9ea13-1c68-4d56-b568-71d3196d5498",
   "metadata": {},
   "outputs": [
    {
     "name": "stdout",
     "output_type": "stream",
     "text": [
      "[3, 4, 5, 6, 7, [23, 456, 67, 8, 78, 78], [345, 56, 87, 8, 98, 9], (234, 6657, 6), {'key1': 'Sudh', 234: [23, 45, 656]}]\n"
     ]
    }
   ],
   "source": [
    "l = [3,4,5,6,7 ,[23,456,67,8,78,78],[345,56,87,8,98,9],(234,6657,6),{\"key1\":\"Sudh\",234:[23,45,656]}]\n",
    "print(l)"
   ]
  },
  {
   "cell_type": "code",
   "execution_count": 84,
   "id": "7bd630d6-56e6-46a8-be00-ba8b6ef623d6",
   "metadata": {},
   "outputs": [
    {
     "name": "stdout",
     "output_type": "stream",
     "text": [
      "234\n"
     ]
    }
   ],
   "source": [
    "print(l[7][0])"
   ]
  },
  {
   "cell_type": "code",
   "execution_count": 86,
   "id": "9df53a58-9fbc-405b-aa5d-20e97dc9af5b",
   "metadata": {},
   "outputs": [
    {
     "name": "stdout",
     "output_type": "stream",
     "text": [
      "456\n"
     ]
    }
   ],
   "source": [
    "print(l[5][1])"
   ]
  },
  {
   "cell_type": "code",
   "execution_count": 88,
   "id": "a83d2c8a-f2c4-4647-b661-1a5a3f19eeca",
   "metadata": {},
   "outputs": [
    {
     "name": "stdout",
     "output_type": "stream",
     "text": [
      "Sudh\n"
     ]
    }
   ],
   "source": [
    "print(l[8][\"key1\"])"
   ]
  },
  {
   "cell_type": "code",
   "execution_count": 90,
   "id": "ea87a3e8-aa3a-422e-9394-2cbb6f1bd6a9",
   "metadata": {},
   "outputs": [
    {
     "name": "stdout",
     "output_type": "stream",
     "text": [
      "[23, 45, 656]\n"
     ]
    }
   ],
   "source": [
    "print(l[8][234])"
   ]
  },
  {
   "cell_type": "code",
   "execution_count": 92,
   "id": "646026bf-d7ba-447f-8a4b-78f4aa175b16",
   "metadata": {},
   "outputs": [
    {
     "name": "stdout",
     "output_type": "stream",
     "text": [
      "656\n"
     ]
    }
   ],
   "source": [
    "print(l[8][234][2])"
   ]
  },
  {
   "cell_type": "code",
   "execution_count": 94,
   "id": "81290d77-637d-467b-9255-7017c2e5ce55",
   "metadata": {},
   "outputs": [
    {
     "name": "stdout",
     "output_type": "stream",
     "text": [
      "[[23, 456, 67, 8, 78, 78], [345, 56, 87, 8, 98, 9]]\n"
     ]
    }
   ],
   "source": [
    "print(l[5:7])"
   ]
  },
  {
   "cell_type": "code",
   "execution_count": 96,
   "id": "1d442eaa-136c-4551-9348-e102b7922328",
   "metadata": {},
   "outputs": [
    {
     "name": "stdout",
     "output_type": "stream",
     "text": [
      "(234, 6657, 6)\n"
     ]
    }
   ],
   "source": [
    "print(l[7])"
   ]
  },
  {
   "cell_type": "code",
   "execution_count": 98,
   "id": "ed0fca70-92da-4298-be98-d333f4a08456",
   "metadata": {},
   "outputs": [
    {
     "data": {
      "text/plain": [
       "['key1', 234]"
      ]
     },
     "execution_count": 98,
     "metadata": {},
     "output_type": "execute_result"
    }
   ],
   "source": [
    "list(l[8].keys())"
   ]
  },
  {
   "cell_type": "code",
   "execution_count": 100,
   "id": "fbf2eacc-4cb7-403e-a443-947dfa5de416",
   "metadata": {},
   "outputs": [
    {
     "data": {
      "text/plain": [
       "['Sudh', [23, 45, 656]]"
      ]
     },
     "execution_count": 100,
     "metadata": {},
     "output_type": "execute_result"
    }
   ],
   "source": [
    "list(l[8].values())"
   ]
  },
  {
   "cell_type": "code",
   "execution_count": 102,
   "id": "80bb80ff-1a1a-48bf-8a07-10b0477bc076",
   "metadata": {},
   "outputs": [
    {
     "name": "stdout",
     "output_type": "stream",
     "text": [
      "[42, 'Hello', 3.14, True, {'key': 'value'}, (1, 2, 3), None]\n"
     ]
    }
   ],
   "source": [
    "Data = [42,\"Hello\",3.14,True,{\"key\":\"value\"},(1,2,3),None]\n",
    "print(Data)"
   ]
  },
  {
   "cell_type": "code",
   "execution_count": 104,
   "id": "45b4371f-50cc-4e7f-9bec-29d90d094b8d",
   "metadata": {},
   "outputs": [
    {
     "name": "stdout",
     "output_type": "stream",
     "text": [
      "Hello\n"
     ]
    }
   ],
   "source": [
    "print(Data[1])"
   ]
  },
  {
   "cell_type": "code",
   "execution_count": 106,
   "id": "61ed6c82-89d1-49ec-91f7-c28706d557e3",
   "metadata": {},
   "outputs": [
    {
     "name": "stdout",
     "output_type": "stream",
     "text": [
      "True\n"
     ]
    }
   ],
   "source": [
    "print(Data[3])"
   ]
  },
  {
   "cell_type": "code",
   "execution_count": 108,
   "id": "83bf99c5-cb26-485f-86cc-f126f615eebc",
   "metadata": {},
   "outputs": [
    {
     "name": "stdout",
     "output_type": "stream",
     "text": [
      "value\n"
     ]
    }
   ],
   "source": [
    "print(Data[4][\"key\"])"
   ]
  },
  {
   "cell_type": "code",
   "execution_count": 110,
   "id": "842cc96f-ef93-40ae-89c4-ff1ed0971c6d",
   "metadata": {},
   "outputs": [
    {
     "name": "stdout",
     "output_type": "stream",
     "text": [
      "(1, 2, 3)\n",
      "3\n"
     ]
    }
   ],
   "source": [
    "print(Data[5])\n",
    "print(Data[5][2])"
   ]
  },
  {
   "cell_type": "code",
   "execution_count": 112,
   "id": "bf828bf9-3f12-4a83-a9e9-f916dc5a9c68",
   "metadata": {},
   "outputs": [
    {
     "name": "stdout",
     "output_type": "stream",
     "text": [
      "None\n"
     ]
    }
   ],
   "source": [
    "print(Data[6])"
   ]
  },
  {
   "cell_type": "code",
   "execution_count": 114,
   "id": "e9d03fbd-eb6f-42db-8346-5682bfc50974",
   "metadata": {},
   "outputs": [
    {
     "data": {
      "text/plain": [
       "tuple"
      ]
     },
     "execution_count": 114,
     "metadata": {},
     "output_type": "execute_result"
    }
   ],
   "source": [
    "type(Data[5])"
   ]
  },
  {
   "cell_type": "code",
   "execution_count": 116,
   "id": "853cd797-e7a0-4d06-96c3-967d2c9003f6",
   "metadata": {},
   "outputs": [
    {
     "name": "stdout",
     "output_type": "stream",
     "text": [
      "[(2, 5), (1, 2), (4, 4), (2, 3), (2, 1)]\n"
     ]
    }
   ],
   "source": [
    "# Write a python program to get a list, sorted in increasing order by the last element in each tuple from a given list of non empty tuples.\n",
    "Samplelist = [(2,5),(1,2),(4,4),(2,3),(2,1)]\n",
    "print(Samplelist)"
   ]
  },
  {
   "cell_type": "code",
   "execution_count": 118,
   "id": "804b903c-0eaa-4bd7-ba62-97ce101db837",
   "metadata": {},
   "outputs": [
    {
     "name": "stdout",
     "output_type": "stream",
     "text": [
      "[(1, 2), (2, 1), (2, 3), (2, 5), (4, 4)]\n"
     ]
    }
   ],
   "source": [
    "Samplelist.sort()\n",
    "print(Samplelist)"
   ]
  },
  {
   "cell_type": "code",
   "execution_count": 120,
   "id": "f6fc6cb7-330d-4139-b42a-1f325d640eee",
   "metadata": {},
   "outputs": [
    {
     "name": "stdout",
     "output_type": "stream",
     "text": [
      "[(2, 1), (1, 2), (2, 3), (4, 4), (2, 5)]\n"
     ]
    }
   ],
   "source": [
    "def last(n):\n",
    "    return n[-1]\n",
    "def sort_list_last(tuple):\n",
    "    return sorted(tuple,key=last)\n",
    "print(sort_list_last([(2,5),(1,2),(4,4),(2,3),(2,1)]))   "
   ]
  },
  {
   "cell_type": "code",
   "execution_count": 122,
   "id": "b4d8e7bc-500b-49f6-a6bd-a029aa605edd",
   "metadata": {},
   "outputs": [
    {
     "name": "stdout",
     "output_type": "stream",
     "text": [
      "Dictionary {2: 45, 1: 5, 5: 56, 4: 67}\n",
      "1 2 4 5 "
     ]
    }
   ],
   "source": [
    "d = {2:45,1:5,5:56,4:67}\n",
    "print(\"Dictionary\",d)\n",
    "#Sorting and Printing dictionary keys\n",
    "for i in sorted(d.keys()):\n",
    "    print(i,end=\" \")"
   ]
  },
  {
   "cell_type": "markdown",
   "id": "b9a681a8-9c21-462a-81ec-5014885f990d",
   "metadata": {},
   "source": [
    "## if else condition"
   ]
  },
  {
   "cell_type": "code",
   "execution_count": 125,
   "id": "5f10eaea-4efb-4b5f-8cb6-c153b55bac16",
   "metadata": {},
   "outputs": [
    {
     "name": "stdout",
     "output_type": "stream",
     "text": [
      "a is greater than b\n"
     ]
    }
   ],
   "source": [
    "a = 500\n",
    "b = 200\n",
    "if b>a:\n",
    "    print(\"b is greater than a\")\n",
    "else:\n",
    "    print(\"a is greater than b\")"
   ]
  },
  {
   "cell_type": "code",
   "execution_count": 127,
   "id": "ca592410-046e-43e2-9f16-501f8c8aaa51",
   "metadata": {},
   "outputs": [
    {
     "name": "stdin",
     "output_type": "stream",
     "text": [
      "Enter the number: 78\n",
      "Enter the number: 89\n"
     ]
    },
    {
     "name": "stdout",
     "output_type": "stream",
     "text": [
      "a is greater than b\n"
     ]
    }
   ],
   "source": [
    "a = input(\"Enter the number:\")\n",
    "b = input(\"Enter the number:\")\n",
    "if b<a:\n",
    "    print(\"b is greater than a\")\n",
    "else:\n",
    "    print(\"a is greater than b\")"
   ]
  },
  {
   "cell_type": "code",
   "execution_count": 190,
   "id": "7be2e5ce-1380-4711-ab46-d7253c44d0f8",
   "metadata": {},
   "outputs": [
    {
     "name": "stdin",
     "output_type": "stream",
     "text": [
      "Enter value: 56\n"
     ]
    },
    {
     "name": "stdout",
     "output_type": "stream",
     "text": [
      "num is even\n"
     ]
    }
   ],
   "source": [
    "num = int(input(\"Enter value:\"))\n",
    "if num % 2 == 0:\n",
    "    print(\"num is even\")\n",
    "else:\n",
    "    print(\"num is odd\")    "
   ]
  },
  {
   "cell_type": "code",
   "execution_count": 194,
   "id": "eeb3695d-f9ed-4958-b9fb-91ea6b74f105",
   "metadata": {},
   "outputs": [
    {
     "name": "stdin",
     "output_type": "stream",
     "text": [
      "Enter the total amount 56\n"
     ]
    },
    {
     "name": "stdout",
     "output_type": "stream",
     "text": [
      "Total amount is 56\n"
     ]
    }
   ],
   "source": [
    "Total_amount = input(\"Enter the total amount\")\n",
    "print(f\"Total amount is {Total_amount}\")"
   ]
  },
  {
   "cell_type": "code",
   "execution_count": 206,
   "id": "24eabfe6-f965-44d3-b727-a8b853e176a8",
   "metadata": {},
   "outputs": [
    {
     "name": "stdin",
     "output_type": "stream",
     "text": [
      "Enter the total amount 789\n"
     ]
    },
    {
     "name": "stdout",
     "output_type": "stream",
     "text": [
      "Total amount is 789\n",
      "price after discount 631.2\n"
     ]
    }
   ],
   "source": [
    "Total_amount =int(input(\"Enter the total amount\"))\n",
    "print(f\"Total amount is {Total_amount}\")\n",
    "if Total_amount > 900:\n",
    "    price_after_discount = Total_amount * 70/100\n",
    "    print(f\"price after discount {price_after_discount}\")\n",
    "elif Total_amount <= 900 and Total_amount > 500:\n",
    "    price_after_discount = Total_amount * 80/100\n",
    "    print(f\"price after discount {price_after_discount}\")\n",
    "else:\n",
    "    print(f\"pay full amount {Total_amount}\")"
   ]
  },
  {
   "cell_type": "code",
   "execution_count": 3,
   "id": "504f1800-a4e8-49b9-8998-52d24de205d4",
   "metadata": {},
   "outputs": [
    {
     "name": "stdin",
     "output_type": "stream",
     "text": [
      "Enter your username: Pratiksha243\n",
      "Enter your password: passcode@3456\n"
     ]
    },
    {
     "name": "stdout",
     "output_type": "stream",
     "text": [
      "Login\n"
     ]
    }
   ],
   "source": [
    "Username = \"Pratiksha243\"\n",
    "Password = \"passcode@3456\"\n",
    "Userid = input(\"Enter your username:\")\n",
    "Pass = input(\"Enter your password:\")\n",
    "if Username == Userid:\n",
    "    print(\"Login\")\n",
    "elif Password == Pass:\n",
    "    print(\"Login\")\n",
    "else:\n",
    "    print(\"Invalid login\")"
   ]
  },
  {
   "cell_type": "code",
   "execution_count": 23,
   "id": "75dd7285-bf00-4462-bf3d-065c0fae572e",
   "metadata": {},
   "outputs": [
    {
     "name": "stdin",
     "output_type": "stream",
     "text": [
      "Enter the value of a: 4\n"
     ]
    },
    {
     "name": "stdout",
     "output_type": "stream",
     "text": [
      "Square of the value a is: 16\n"
     ]
    }
   ],
   "source": [
    "# Accept an integer as input and print its square as output.\n",
    "a = int(input(\"Enter the value of a:\"))\n",
    "b = 2\n",
    "Square = a ** b\n",
    "print(f\"Square of the value a is: {Square}\")"
   ]
  },
  {
   "cell_type": "code",
   "execution_count": 25,
   "id": "2b89b85d-7e01-477d-843b-e8368766fd4a",
   "metadata": {},
   "outputs": [
    {
     "name": "stdin",
     "output_type": "stream",
     "text": [
      "Enter the value of a: 3\n",
      "Enter the value of b: 2\n"
     ]
    },
    {
     "name": "stdout",
     "output_type": "stream",
     "text": [
      "The sum of values is: 5\n"
     ]
    }
   ],
   "source": [
    "#Accept two integers as input and print their sum as output.\n",
    "a = int(input(\"Enter the value of a:\"))\n",
    "b = int(input(\"Enter the value of b:\"))\n",
    "Sum = a + b\n",
    "print(f\"The sum of values is: {Sum}\")"
   ]
  },
  {
   "cell_type": "code",
   "execution_count": 39,
   "id": "6f5d1fb6-ebcd-4ad2-9448-f75091119ba2",
   "metadata": {},
   "outputs": [
    {
     "name": "stdin",
     "output_type": "stream",
     "text": [
      "Enter Name1: Pratiksha\n",
      "Enter Name2: Nandini\n"
     ]
    },
    {
     "name": "stdout",
     "output_type": "stream",
     "text": [
      "Pratiksha Nandini\n"
     ]
    }
   ],
   "source": [
    "#Accept two word as input and print the two words after adding a space between them.\n",
    "Name1 = input(\"Enter Name1:\")\n",
    "Name2 = input(\"Enter Name2:\")\n",
    "print(Name1+\" \"+Name2)"
   ]
  },
  {
   "cell_type": "code",
   "execution_count": 3,
   "id": "3275e7b7-e10a-403d-8cc7-490469670bb3",
   "metadata": {},
   "outputs": [
    {
     "name": "stdin",
     "output_type": "stream",
     "text": [
      "Enter your date of birth: 24\n",
      "Enter you month of birth: 08\n",
      "Enter year of birth: 2005\n"
     ]
    },
    {
     "name": "stdout",
     "output_type": "stream",
     "text": [
      "DD-MM-YY: 24-08-2005\n"
     ]
    }
   ],
   "source": [
    "#Accept the date in DD-MM-YY format as input and print the year as output.\n",
    "Date = input(\"Enter your date of birth:\")\n",
    "Month = input(\"Enter you month of birth:\")\n",
    "Year = input(\"Enter year of birth:\")\n",
    "print(f\"DD-MM-YY: {Date}-{Month}-{Year}\")"
   ]
  },
  {
   "cell_type": "code",
   "execution_count": 37,
   "id": "4b760237-db86-4fc4-8d41-79d6c0b35e53",
   "metadata": {},
   "outputs": [
    {
     "name": "stdin",
     "output_type": "stream",
     "text": [
      "Enter the value x: 7\n",
      "Enter the value y: 9\n"
     ]
    },
    {
     "name": "stdout",
     "output_type": "stream",
     "text": [
      "Number of digits in a is: 40353607\n"
     ]
    }
   ],
   "source": [
    "#Accept two positive integers x and y as input.Print the number of digits in x**y.\n",
    "x = int(input(\"Enter the value x:\"))\n",
    "y = int(input(\"Enter the value y:\"))\n",
    "a = x**y\n",
    "print(f\"Number of digits in a is: {a}\")"
   ]
  },
  {
   "cell_type": "code",
   "execution_count": 3,
   "id": "fd82dcb0-a2d8-4554-80ce-181f05041228",
   "metadata": {},
   "outputs": [
    {
     "name": "stdin",
     "output_type": "stream",
     "text": [
      "Enter first word: i\n",
      "Enter second word: am\n",
      "Enter third word: a\n",
      "Enter fourth word: verycool\n",
      "Enter fifth word: person\n"
     ]
    },
    {
     "name": "stdout",
     "output_type": "stream",
     "text": [
      "Sentence is: i am a verycool person\n"
     ]
    }
   ],
   "source": [
    "#Accept five words as input and print the sentences formed by these words after adding a space between consecutive words and full stop at the end.\n",
    "Word1 = input(\"Enter first word:\")\n",
    "Word2 = input(\"Enter second word:\")\n",
    "Word3 = input(\"Enter third word:\")\n",
    "Word4 = input(\"Enter fourth word:\")\n",
    "Word5 = input(\"Enter fifth word:\")\n",
    "Sentence = Word1+\" \"+Word2+\" \"+Word3+\" \"+Word4+\" \"+Word5\n",
    "print(f\"Sentence is: {Sentence}\")"
   ]
  },
  {
   "cell_type": "markdown",
   "id": "06701a9c-c11d-4743-97aa-25167bb84991",
   "metadata": {},
   "source": [
    "## For loop"
   ]
  },
  {
   "cell_type": "code",
   "execution_count": 2,
   "id": "df046e3d-6a5e-41c7-a1c0-8ea8473340b6",
   "metadata": {},
   "outputs": [
    {
     "name": "stdout",
     "output_type": "stream",
     "text": [
      "0\n",
      "1\n",
      "2\n",
      "3\n",
      "4\n",
      "5\n",
      "6\n",
      "7\n",
      "8\n",
      "9\n",
      "10\n",
      "11\n",
      "12\n",
      "13\n",
      "14\n"
     ]
    }
   ],
   "source": [
    "for i in range(15):\n",
    "    print(i)"
   ]
  },
  {
   "cell_type": "code",
   "execution_count": 14,
   "id": "60672e6a-e6f8-410e-a2a7-44025d883cd4",
   "metadata": {},
   "outputs": [
    {
     "name": "stdout",
     "output_type": "stream",
     "text": [
      "0\n",
      "1\n",
      "2\n",
      "3\n",
      "4\n",
      "5\n",
      "6\n",
      "7\n",
      "8\n"
     ]
    }
   ],
   "source": [
    "for i in range(0,10):\n",
    "    print(i)\n",
    "    if i >= 8:\n",
    "        break"
   ]
  },
  {
   "cell_type": "code",
   "execution_count": 36,
   "id": "3e150117-489d-4c76-bcf1-e65be6fc74d2",
   "metadata": {},
   "outputs": [
    {
     "name": "stdout",
     "output_type": "stream",
     "text": [
      "10\n",
      "20\n",
      "30\n",
      "40\n",
      "50\n",
      "60\n",
      "70\n",
      "80\n",
      "90\n",
      "100\n"
     ]
    }
   ],
   "source": [
    "for i in range(1,11):\n",
    "    print(i*10)"
   ]
  },
  {
   "cell_type": "code",
   "execution_count": 3,
   "id": "0dcbbe3f-c2ca-471e-a43c-e5f78fc647d8",
   "metadata": {},
   "outputs": [
    {
     "name": "stdout",
     "output_type": "stream",
     "text": [
      "0=100+0\n",
      "after adding values 100\n",
      "____________________\n",
      "100=200+100\n",
      "after adding values 300\n",
      "____________________\n",
      "300=245+300\n",
      "after adding values 545\n",
      "____________________\n",
      "545=300+545\n",
      "after adding values 845\n",
      "____________________\n",
      "845=89+845\n",
      "after adding values 934\n",
      "____________________\n",
      "Total number of items 934\n"
     ]
    }
   ],
   "source": [
    "cost_of_items = [100,200,245,300,89]\n",
    "Total_sum=0\n",
    "for cost in  cost_of_items:\n",
    "    print(f\"{Total_sum}={cost}+{Total_sum}\")\n",
    "    Total_sum = Total_sum+cost\n",
    "    print(f\"after adding values {Total_sum}\")\n",
    "    print(\"____________________\")\n",
    "print(f\"Total number of items {Total_sum}\")"
   ]
  },
  {
   "cell_type": "code",
   "execution_count": 1,
   "id": "ef828ed6-b67b-4b90-a496-dffcc740189d",
   "metadata": {},
   "outputs": [
    {
     "name": "stdout",
     "output_type": "stream",
     "text": [
      "Current station is:Station1\n",
      "Current station is:Station2\n",
      "Current station is:Station3\n",
      "Current station is:Station4\n",
      "Station is arrived: Station4\n"
     ]
    }
   ],
   "source": [
    "#Station1,,2,3,4,5\n",
    "Station = [\"Station1\",\"Station2\",\"Station3\",\"Station4\",\"Station5\"]\n",
    "for i in Station:\n",
    "    print(f\"Current station is:{i}\")\n",
    "    if i == \"Station4\":\n",
    "        print(f\"Station is arrived: {i}\")\n",
    "        break"
   ]
  },
  {
   "cell_type": "code",
   "execution_count": 9,
   "id": "2a267313-7097-4292-a40d-e05abe56505a",
   "metadata": {},
   "outputs": [
    {
     "name": "stdout",
     "output_type": "stream",
     "text": [
      "The table for: 1\n",
      "1  2  3  4  5  6  7  8  9  10\n",
      "___________________\n",
      "The table for: 2\n",
      "2  4  6  8  10  12  14  16  18  20\n",
      "___________________\n",
      "The table for: 3\n",
      "3  6  9  12  15  18  21  24  27  30\n",
      "___________________\n",
      "The table for: 4\n",
      "4  8  12  16  20  24  28  32  36  40\n",
      "___________________\n",
      "The table for: 5\n",
      "5  10  15  20  25  30  35  40  45  50\n",
      "___________________\n",
      "The table for: 6\n",
      "6  12  18  24  30  36  42  48  54  60\n",
      "___________________\n",
      "The table for: 7\n",
      "7  14  21  28  35  42  49  56  63  70\n",
      "___________________\n",
      "The table for: 8\n",
      "8  16  24  32  40  48  56  64  72  80\n",
      "___________________\n",
      "The table for: 9\n",
      "9  18  27  36  45  54  63  72  81  90\n",
      "___________________\n",
      "The table for: 10\n",
      "10  20  30  40  50  60  70  80  90  100\n",
      "___________________\n"
     ]
    }
   ],
   "source": [
    "for i in range(1,11):\n",
    "    print(f\"The table for: {i}\")\n",
    "    print(i*1,\"\",i*2,\"\",i*3,\"\",i*4,\"\",i*5,\"\",i*6,\"\",i*7,\"\",i*8,\"\",i*9,\"\",i*10)\n",
    "    print(\"___________________\")"
   ]
  },
  {
   "cell_type": "code",
   "execution_count": 25,
   "id": "1b62a54b-c134-4eea-bbde-e2589096c661",
   "metadata": {},
   "outputs": [
    {
     "name": "stdin",
     "output_type": "stream",
     "text": [
      "Enter value MP5656\n"
     ]
    },
    {
     "name": "stdout",
     "output_type": "stream",
     "text": [
      "MP\n"
     ]
    }
   ],
   "source": [
    "Reg_num = input(\"Enter value\")\n",
    "for i in range(1):\n",
    "    print(Reg_num[0:2])"
   ]
  },
  {
   "cell_type": "code",
   "execution_count": 27,
   "id": "bf847690-89bb-4934-8a8d-9da9f7bc0cfd",
   "metadata": {},
   "outputs": [
    {
     "name": "stdin",
     "output_type": "stream",
     "text": [
      "Enter a string value: Malayam\n"
     ]
    },
    {
     "name": "stdout",
     "output_type": "stream",
     "text": [
      "Yes the value is palindrome Malayam\n"
     ]
    }
   ],
   "source": [
    "# Accept a string as input and print PALINDROME if it is a palindrome ,and NOT PALINDROME otherwise.\n",
    "s = \"Malayam\"\n",
    "Palindrome = str(input(\"Enter a string value:\"))\n",
    "Plaindrome = s\n",
    "if s == Palindrome:\n",
    "    print(f\"Yes the value is palindrome {s}\")\n",
    "else:\n",
    "    print(f\"no the value is not palindrome {s}\")"
   ]
  },
  {
   "cell_type": "code",
   "execution_count": 7,
   "id": "6e120085-53f5-4ca4-83b4-e1ab2305e169",
   "metadata": {},
   "outputs": [
    {
     "name": "stdin",
     "output_type": "stream",
     "text": [
      " level\n"
     ]
    },
    {
     "name": "stdout",
     "output_type": "stream",
     "text": [
      "Palindrome\n"
     ]
    }
   ],
   "source": [
    "#PALINDROME\n",
    "x = str(input())\n",
    "if x[::-1]==x:\n",
    "    print(\"Palindrome\")\n",
    "else:\n",
    "    print(\"Not palindrome\")    "
   ]
  },
  {
   "cell_type": "code",
   "execution_count": 3,
   "id": "12b0f35d-e712-40a6-a001-b692f0d23bc3",
   "metadata": {},
   "outputs": [
    {
     "name": "stdin",
     "output_type": "stream",
     "text": [
      "Enter your number: 7558389780\n"
     ]
    },
    {
     "ename": "TypeError",
     "evalue": "'>' not supported between instances of 'str' and 'int'",
     "output_type": "error",
     "traceback": [
      "\u001b[1;31m---------------------------------------------------------------------------\u001b[0m",
      "\u001b[1;31mTypeError\u001b[0m                                 Traceback (most recent call last)",
      "Cell \u001b[1;32mIn[3], line 3\u001b[0m\n\u001b[0;32m      1\u001b[0m n \u001b[38;5;241m=\u001b[39m \u001b[38;5;28minput\u001b[39m(\u001b[38;5;124m\"\u001b[39m\u001b[38;5;124mEnter your number:\u001b[39m\u001b[38;5;124m\"\u001b[39m)\n\u001b[0;32m      2\u001b[0m a \u001b[38;5;241m=\u001b[39m \u001b[38;5;28;01mFalse\u001b[39;00m\n\u001b[1;32m----> 3\u001b[0m \u001b[38;5;28;01mif\u001b[39;00m \u001b[38;5;28mlen\u001b[39m(n) \u001b[38;5;241m==\u001b[39m \u001b[38;5;241m10\u001b[39m \u001b[38;5;129;01mand\u001b[39;00m \u001b[38;5;28mint\u001b[39m(n[\u001b[38;5;241m0\u001b[39m]\u001b[38;5;241m>\u001b[39m\u001b[38;5;241m5\u001b[39m \u001b[38;5;129;01mand\u001b[39;00m n\u001b[38;5;241m.\u001b[39misdigit()):\n\u001b[0;32m      4\u001b[0m     \u001b[38;5;28;01mfor\u001b[39;00m i \u001b[38;5;129;01min\u001b[39;00m \u001b[38;5;28mrange\u001b[39m(\u001b[38;5;241m10\u001b[39m):\n\u001b[0;32m      5\u001b[0m         \u001b[38;5;28;01mif\u001b[39;00m n\u001b[38;5;241m.\u001b[39mcount(n[i]\u001b[38;5;241m<\u001b[39m\u001b[38;5;241m8\u001b[39m):\n",
      "\u001b[1;31mTypeError\u001b[0m: '>' not supported between instances of 'str' and 'int'"
     ]
    }
   ],
   "source": [
    "n = input(\"Enter your number:\")\n",
    "a = False\n",
    "if len(n) == 10 and int(n[0]>5 and n.isdigit()):\n",
    "    for i in range(10):\n",
    "        if n.count(n[i]<8):\n",
    "            a = True\n",
    "            if n[i]*6 in n:\n",
    "                a = False\n",
    "            break\n",
    "        else:\n",
    "            break\n",
    "if a:\n",
    "    print(\"valid\")\n",
    "else:\n",
    "    print(\"invalid\")    "
   ]
  },
  {
   "cell_type": "markdown",
   "id": "bf190c18-2e42-4ff1-882f-f9453a613fb7",
   "metadata": {},
   "source": [
    "## While loop"
   ]
  },
  {
   "cell_type": "code",
   "execution_count": 6,
   "id": "224296b1-5a23-46de-b805-18c8e69a48e6",
   "metadata": {},
   "outputs": [
    {
     "name": "stdout",
     "output_type": "stream",
     "text": [
      "0\n",
      "1\n",
      "2\n"
     ]
    }
   ],
   "source": [
    "i = 0\n",
    "while(i<3):\n",
    "    print(i)\n",
    "    i = i+1"
   ]
  },
  {
   "cell_type": "code",
   "execution_count": 12,
   "id": "3489b65b-10a5-455e-8703-b87ea2485c14",
   "metadata": {},
   "outputs": [
    {
     "name": "stdin",
     "output_type": "stream",
     "text": [
      "Enter the number: 76\n"
     ]
    },
    {
     "name": "stdout",
     "output_type": "stream",
     "text": [
      "Condition is false\n"
     ]
    }
   ],
   "source": [
    "n = int(input(\"Enter the number:\"))\n",
    "while(i<8):\n",
    "    print(i)\n",
    "    i = i+1\n",
    "    print(\"Condition is true\")\n",
    "else:\n",
    "    print(\"Condition is false\")"
   ]
  },
  {
   "cell_type": "code",
   "execution_count": null,
   "id": "e1d909f2-bb4c-4717-89a1-60b06371b354",
   "metadata": {},
   "outputs": [],
   "source": [
    "count = 5\n",
    "while(count>=0):\n",
    "    print(count)\n",
    "    count - = 1\n",
    "print(\"While loop completed\")    "
   ]
  },
  {
   "cell_type": "code",
   "execution_count": 29,
   "id": "ca6d517b-1518-4091-a3b7-5df2c3cbad10",
   "metadata": {},
   "outputs": [
    {
     "name": "stdout",
     "output_type": "stream",
     "text": [
      "Current note is: 10\n",
      "Current note is: 20\n",
      "Current note is: 30\n",
      "Current note is: 40\n",
      "Current note is: 50\n",
      "Current note is: 60\n",
      "Current note is: 70\n",
      "Current note is: 80\n",
      "Current note is: 90\n",
      "Current note is: 100\n",
      "no 10 rupees is left: False\n"
     ]
    }
   ],
   "source": [
    "#Child is learning to count 10 ruppes.\n",
    "count = 10\n",
    "i = 1\n",
    "while(i<=10):\n",
    "    print(f\"Current note is: {i*10}\")\n",
    "    i += 1\n",
    "print(f\"no 10 rupees is left: {i<=10}\")    "
   ]
  },
  {
   "cell_type": "code",
   "execution_count": 19,
   "id": "93db111d-ad12-44af-adaa-29e221ab36c5",
   "metadata": {},
   "outputs": [
    {
     "name": "stdout",
     "output_type": "stream",
     "text": [
      "Condition: True\n",
      "Current note 10\n",
      "________________\n",
      "Condition: True\n",
      "Current note 20\n",
      "________________\n",
      "Condition: True\n",
      "Current note 30\n",
      "________________\n",
      "Condition: True\n",
      "Current note 40\n",
      "________________\n",
      "Condition: True\n",
      "Current note 50\n",
      "________________\n",
      "Condition :False\n",
      "No more 10 rupees left\n"
     ]
    }
   ],
   "source": [
    "note = 5\n",
    "i = 1\n",
    "while i <= note:\n",
    "    print(f\"Condition: {i<=note}\")\n",
    "    print(f\"Current note {i*10}\")\n",
    "    i = i+1\n",
    "    print(\"________________\")\n",
    "else:\n",
    "    print(f\"Condition :{i<=note}\")\n",
    "    print(\"No more 10 rupees left\")"
   ]
  },
  {
   "cell_type": "code",
   "execution_count": 11,
   "id": "8a5d7b82-de77-4c6e-a046-639e67c64750",
   "metadata": {},
   "outputs": [
    {
     "name": "stdout",
     "output_type": "stream",
     "text": [
      "Current_Station is :Station1\n",
      "Destinatio _station :Station4\n",
      "Next station is: Station2\n",
      "_________________\n",
      "Current_Station is :Station2\n",
      "Destinatio _station :Station4\n",
      "Next station is: Station3\n",
      "_________________\n",
      "Current_Station is :Station3\n",
      "Destinatio _station :Station4\n",
      "Next station is: Station4\n",
      "_________________\n",
      "Current_Station is :Station4\n",
      "Destinatio _station :Station4\n",
      "Next station is: Station5\n",
      "_________________\n",
      "Current_Station is :Station5\n",
      "Destinatio _station :Station4\n"
     ]
    },
    {
     "ename": "IndexError",
     "evalue": "list index out of range",
     "output_type": "error",
     "traceback": [
      "\u001b[1;31m---------------------------------------------------------------------------\u001b[0m",
      "\u001b[1;31mIndexError\u001b[0m                                Traceback (most recent call last)",
      "Cell \u001b[1;32mIn[11], line 8\u001b[0m\n\u001b[0;32m      6\u001b[0m     \u001b[38;5;28mprint\u001b[39m(\u001b[38;5;124mf\u001b[39m\u001b[38;5;124m\"\u001b[39m\u001b[38;5;124mDestinatio _station :\u001b[39m\u001b[38;5;132;01m{\u001b[39;00mDestination_station\u001b[38;5;132;01m}\u001b[39;00m\u001b[38;5;124m\"\u001b[39m)\n\u001b[0;32m      7\u001b[0m     Current_Station \u001b[38;5;241m=\u001b[39m Current_Station\u001b[38;5;241m+\u001b[39m\u001b[38;5;241m1\u001b[39m\n\u001b[1;32m----> 8\u001b[0m     \u001b[38;5;28mprint\u001b[39m(\u001b[38;5;124mf\u001b[39m\u001b[38;5;124m\"\u001b[39m\u001b[38;5;124mNext station is: \u001b[39m\u001b[38;5;132;01m{\u001b[39;00mStation[Current_Station]\u001b[38;5;132;01m}\u001b[39;00m\u001b[38;5;124m\"\u001b[39m)\n\u001b[0;32m      9\u001b[0m     \u001b[38;5;28mprint\u001b[39m(\u001b[38;5;124m\"\u001b[39m\u001b[38;5;124m_________________\u001b[39m\u001b[38;5;124m\"\u001b[39m)\n\u001b[0;32m     10\u001b[0m \u001b[38;5;28;01melse\u001b[39;00m:\n",
      "\u001b[1;31mIndexError\u001b[0m: list index out of range"
     ]
    }
   ],
   "source": [
    "Station = [\"Station1\",\"Station2\",\"Station3\",\"Station4\",\"Station5\"]\n",
    "Current_Station = 0\n",
    "Destination_station = \"Station4\"\n",
    "while Station[Current_Station]!=[Destination_station]:\n",
    "    print(f\"Current_Station is :{Station[Current_Station]}\")\n",
    "    print(f\"Destinatio _station :{Destination_station}\")\n",
    "    Current_Station = Current_Station+1\n",
    "    print(f\"Next station is: {Station[Current_Station]}\")\n",
    "    print(\"_________________\")\n",
    "else:\n",
    "    print(f\"I have arrived station: {Station[Current_Station]}\")"
   ]
  },
  {
   "cell_type": "code",
   "execution_count": null,
   "id": "bc710297-7977-48ac-aa16-eff92fcc2cde",
   "metadata": {},
   "outputs": [],
   "source": []
  },
  {
   "cell_type": "code",
   "execution_count": null,
   "id": "bf3bdb47-f069-4c2a-81e1-32af8334984a",
   "metadata": {},
   "outputs": [],
   "source": []
  }
 ],
 "metadata": {
  "kernelspec": {
   "display_name": "Python 3 (ipykernel)",
   "language": "python",
   "name": "python3"
  },
  "language_info": {
   "codemirror_mode": {
    "name": "ipython",
    "version": 3
   },
   "file_extension": ".py",
   "mimetype": "text/x-python",
   "name": "python",
   "nbconvert_exporter": "python",
   "pygments_lexer": "ipython3",
   "version": "3.12.7"
  }
 },
 "nbformat": 4,
 "nbformat_minor": 5
}
